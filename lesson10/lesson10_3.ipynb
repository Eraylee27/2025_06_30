{
 "cells": [
  {
   "cell_type": "code",
   "execution_count": 4,
   "id": "981a3226",
   "metadata": {},
   "outputs": [
    {
     "data": {
      "text/plain": [
       "300"
      ]
     },
     "execution_count": 4,
     "metadata": {},
     "output_type": "execute_result"
    }
   ],
   "source": [
    "#tuple\n",
    "#tuple不可新增,修改,刪除元素\n",
    "#是暫時資料\n",
    "(\"a\",\"A\")\n",
    "\"a\",\"A\"\n",
    "\n",
    "#tuple最常使用拆解法\n",
    "(name,score) = \"Eray\",300  #\"Eray\"存在name,300存在score\n",
    "name,score = \"Eray\",300\n",
    "name\n",
    "score"
   ]
  },
  {
   "cell_type": "code",
   "execution_count": null,
   "id": "daa7b4a8",
   "metadata": {},
   "outputs": [],
   "source": []
  }
 ],
 "metadata": {
  "kernelspec": {
   "display_name": "base",
   "language": "python",
   "name": "python3"
  },
  "language_info": {
   "codemirror_mode": {
    "name": "ipython",
    "version": 3
   },
   "file_extension": ".py",
   "mimetype": "text/x-python",
   "name": "python",
   "nbconvert_exporter": "python",
   "pygments_lexer": "ipython3",
   "version": "3.13.2"
  }
 },
 "nbformat": 4,
 "nbformat_minor": 5
}
