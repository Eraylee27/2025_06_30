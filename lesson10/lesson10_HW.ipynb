{
 "cells": [
  {
   "cell_type": "code",
   "execution_count": 2,
   "id": "9d248a1c",
   "metadata": {},
   "outputs": [
    {
     "name": "stdout",
     "output_type": "stream",
     "text": [
      "[['黎惠雯', 88, 71, 73], ['艾巧夫', 54, 89, 94], ['周家銘', 90, 89, 100]]\n"
     ]
    }
   ],
   "source": [
    "# 有一個names.txt\n",
    "# 讀取names.txt\n",
    "# 請隨機取出3個名字\n",
    "# 建立2維的list,結構如下\n",
    "# [['陳怡伶',67,92,97],['馮芳如',98,86,75],['蒙淑惠',76,65,59]]\n",
    "\n",
    "import random\n",
    "\n",
    "# 讀取 names.txt\n",
    "with open(\"names.txt\", encoding=\"utf-8\") as file:\n",
    "    names = file.read().splitlines()\n",
    "\n",
    "# 隨機取出 3 個名字\n",
    "selected_names = random.sample(names, 3)\n",
    "\n",
    "# 建立二維 list，每個姓名有 3 個分數\n",
    "scores_list = [[name] + [random.randint(50, 100) for _ in range(3)] for name in selected_names]\n",
    "\n",
    "# 印出結果\n",
    "print(scores_list)"
   ]
  }
 ],
 "metadata": {
  "kernelspec": {
   "display_name": "base",
   "language": "python",
   "name": "python3"
  },
  "language_info": {
   "codemirror_mode": {
    "name": "ipython",
    "version": 3
   },
   "file_extension": ".py",
   "mimetype": "text/x-python",
   "name": "python",
   "nbconvert_exporter": "python",
   "pygments_lexer": "ipython3",
   "version": "3.13.2"
  }
 },
 "nbformat": 4,
 "nbformat_minor": 5
}
