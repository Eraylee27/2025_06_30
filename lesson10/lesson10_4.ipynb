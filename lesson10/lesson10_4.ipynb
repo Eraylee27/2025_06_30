{
 "cells": [
  {
   "cell_type": "markdown",
   "id": "15204b95",
   "metadata": {},
   "source": [
    "## 類別\n",
    "## 實體"
   ]
  },
  {
   "cell_type": "code",
   "execution_count": 1,
   "id": "134ab23f",
   "metadata": {},
   "outputs": [
    {
     "name": "stdout",
     "output_type": "stream",
     "text": [
      "<class 'list'>\n"
     ]
    }
   ],
   "source": [
    "my_list:list = [i for i in range(10)]\n",
    "print(type(my_list))"
   ]
  }
 ],
 "metadata": {
  "kernelspec": {
   "display_name": "base",
   "language": "python",
   "name": "python3"
  },
  "language_info": {
   "codemirror_mode": {
    "name": "ipython",
    "version": 3
   },
   "file_extension": ".py",
   "mimetype": "text/x-python",
   "name": "python",
   "nbconvert_exporter": "python",
   "pygments_lexer": "ipython3",
   "version": "3.13.2"
  }
 },
 "nbformat": 4,
 "nbformat_minor": 5
}
