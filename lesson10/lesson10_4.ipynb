{
 "cells": [
  {
   "cell_type": "markdown",
   "id": "15204b95",
   "metadata": {},
   "source": [
    "## 類別\n",
    "## 實體"
   ]
  },
  {
   "cell_type": "code",
   "execution_count": null,
   "id": "134ab23f",
   "metadata": {},
   "outputs": [
    {
     "name": "stdout",
     "output_type": "stream",
     "text": [
      "[0, 1, 2, 3, 4, 5, 6, 7, 8, 9]\n",
      "<class 'list'>\n"
     ]
    }
   ],
   "source": [
    "my_list:list = [i for i in range(10)]  #i for ... -> 產生一個list\n",
    "print(my_list)\n",
    "print(type(my_list))"
   ]
  },
  {
   "cell_type": "code",
   "execution_count": 10,
   "id": "3d888200",
   "metadata": {},
   "outputs": [
    {
     "name": "stdout",
     "output_type": "stream",
     "text": [
      "[]\n",
      "[10]\n",
      "[10, 11, 12]\n",
      "[-1, 10, 11, 12]\n",
      "[-1, 11, 12]\n",
      "[-1, 11]\n"
     ]
    }
   ],
   "source": [
    "#建立my_list常用實體方法\n",
    "\n",
    "my_list.clear() #清空列表\n",
    "print(my_list)\n",
    "my_list.append(10) #在列表尾端添加一個元素\n",
    "print(my_list)\n",
    "my_list.extend([11,12]) #在列表尾端添加多個元素\n",
    "print(my_list)\n",
    "my_list.insert(0,-1) #在指定位置加入元素(位置,欲插入元素)->插在\"位置\"前面\n",
    "print(my_list)\n",
    "my_list.remove(10) #移除列表中的第一個匹配項(指定值)\n",
    "print(my_list)\n",
    "my_list.pop() #移除()索引中所對應的元素(指定位置),沒寫就是移除最後一個\n",
    "print(my_list)"
   ]
  },
  {
   "cell_type": "code",
   "execution_count": null,
   "id": "7caec8b9",
   "metadata": {},
   "outputs": [],
   "source": [
    "#int,float,bool的實體都沒有實體屬性跟實體方法method()"
   ]
  }
 ],
 "metadata": {
  "kernelspec": {
   "display_name": "base",
   "language": "python",
   "name": "python3"
  },
  "language_info": {
   "codemirror_mode": {
    "name": "ipython",
    "version": 3
   },
   "file_extension": ".py",
   "mimetype": "text/x-python",
   "name": "python",
   "nbconvert_exporter": "python",
   "pygments_lexer": "ipython3",
   "version": "3.13.2"
  }
 },
 "nbformat": 4,
 "nbformat_minor": 5
}
