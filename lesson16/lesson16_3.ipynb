{
 "cells": [
  {
   "cell_type": "code",
   "execution_count": null,
   "id": "22462a47",
   "metadata": {},
   "outputs": [],
   "source": [
    "import pandas as pd\n",
    "#將DataFrame當資料庫來操作\n",
    "df = pd.read_csv(\"world.csv\")"
   ]
  },
  {
   "cell_type": "code",
   "execution_count": null,
   "id": "56eaea99",
   "metadata": {},
   "outputs": [],
   "source": [
    "df.read()"
   ]
  }
 ],
 "metadata": {
  "kernelspec": {
   "display_name": "data",
   "language": "python",
   "name": "python3"
  },
  "language_info": {
   "name": "python",
   "version": "3.12.11"
  }
 },
 "nbformat": 4,
 "nbformat_minor": 5
}
