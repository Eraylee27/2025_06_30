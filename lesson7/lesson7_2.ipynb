{
 "cells": [
  {
   "cell_type": "code",
   "execution_count": 9,
   "id": "a1b6e8b9",
   "metadata": {},
   "outputs": [
    {
     "name": "stdout",
     "output_type": "stream",
     "text": [
      "========猜數字遊戲========\n",
      "\n",
      "沒有猜中\n",
      "沒有猜中\n",
      "沒有猜中\n",
      "沒有猜中\n",
      "沒有猜中\n",
      "沒有猜中\n",
      "沒有猜中\n",
      "沒有猜中\n",
      "賓果!猜對了!!!答案是4\n",
      "您猜了9次\n",
      "\n",
      "～遊戲結束～\n"
     ]
    }
   ],
   "source": [
    "#亂數猜數字\n",
    "import random\n",
    "\n",
    "min = 1\n",
    "max = 10\n",
    "count = 0\n",
    "guess_value = random.randint(min,max) # 建立1～100的亂數\n",
    "print(\"========猜數字遊戲========\\n\")\n",
    "\n",
    "while(True):\n",
    "    keyin = int(input(f\"猜數字範圍{min}~{max}\"))\n",
    "    count += 1\n",
    "    if keyin >= min and keyin <= max:\n",
    "        if (keyin == guess_value):\n",
    "            print(f\"賓果!猜對了!!!答案是{guess_value}\")\n",
    "            print(f\"您猜了{count}次\")\n",
    "            break\n",
    "        else:\n",
    "            print(\"沒有猜中\")\n",
    "            continue\n",
    "    else:\n",
    "        print(\"請輸入提示範圍數字\")\n",
    "\n",
    "print(\"\\n～遊戲結束～\")"
   ]
  }
 ],
 "metadata": {
  "kernelspec": {
   "display_name": "base",
   "language": "python",
   "name": "python3"
  },
  "language_info": {
   "codemirror_mode": {
    "name": "ipython",
    "version": 3
   },
   "file_extension": ".py",
   "mimetype": "text/x-python",
   "name": "python",
   "nbconvert_exporter": "python",
   "pygments_lexer": "ipython3",
   "version": "3.13.2"
  }
 },
 "nbformat": 4,
 "nbformat_minor": 5
}
