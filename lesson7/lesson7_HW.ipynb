{
 "cells": [
  {
   "cell_type": "code",
   "execution_count": 7,
   "id": "5b9d2cd1",
   "metadata": {},
   "outputs": [
    {
     "name": "stdout",
     "output_type": "stream",
     "text": [
      "==========猜數字遊戲===========\n",
      "\n",
      "您猜了50 → 再小一點!\n",
      "➡️您已經猜1次\n",
      "您猜了30 → 再大一點\n",
      "➡️您已經猜2次\n",
      "您猜了40 → 再小一點!\n",
      "➡️您已經猜3次\n",
      "您猜了35 → 再大一點\n",
      "➡️您已經猜4次\n",
      "您猜了37 → 再小一點!\n",
      "➡️您已經猜5次\n",
      "\n",
      "🎉賓果!猜對了,答案是:36\n",
      "您猜了6次\n",
      "\n",
      "～遊戲結束～\n",
      "\n",
      "您總共玩了1次\n"
     ]
    }
   ],
   "source": [
    "import random\n",
    "\n",
    "play_count = 0\n",
    "\n",
    "while(True):\n",
    "    play_count += 1\n",
    "    min = 1\n",
    "    max = 100\n",
    "    count = 0\n",
    "    guess_value = random.randint(min,max)\n",
    "    print(\"==========猜數字遊戲===========\\n\")\n",
    "    while(True):\n",
    "        try:\n",
    "            count += 1\n",
    "            keyin = int(input(f\"猜數字範圍{min}~{max}:\"))\n",
    "            if min <= keyin <= max:\n",
    "                if(keyin == guess_value):\n",
    "                    print(f\"\\n🎉賓果!猜對了,答案是:{guess_value}\")\n",
    "                    print(f\"您猜了{count}次\")\n",
    "                    break\n",
    "\n",
    "                elif keyin > guess_value:\n",
    "                    print(f\"您猜了{keyin} → 再小一點!\")\n",
    "                    max = keyin - 1\n",
    "                \n",
    "                else:\n",
    "                    print(f\"您猜了{keyin} → 再大一點\")\n",
    "                    min = keyin + 1\n",
    "\n",
    "                print(f\"➡️您已經猜{count}次\")\n",
    "                \n",
    "            else:\n",
    "                raise Exception(\"請輸入提示範圍內的數字\")\n",
    "            \n",
    "        except ValueError as e:\n",
    "            print(\"格式錯誤\",e)\n",
    "        except Exception as e:\n",
    "            print(e)\n",
    "\n",
    "    choose = input(\"輸入 y (再玩一次)或 n (結束遊戲):\")\n",
    "    if choose == \"y\":\n",
    "        print(\"\\n～重新開始～\")\n",
    "        continue\n",
    "    else:\n",
    "        print(\"\\n～遊戲結束～\")\n",
    "        break\n",
    "print(f\"\\n您總共玩了{play_count}次\")"
   ]
  }
 ],
 "metadata": {
  "kernelspec": {
   "display_name": "base",
   "language": "python",
   "name": "python3"
  },
  "language_info": {
   "codemirror_mode": {
    "name": "ipython",
    "version": 3
   },
   "file_extension": ".py",
   "mimetype": "text/x-python",
   "name": "python",
   "nbconvert_exporter": "python",
   "pygments_lexer": "ipython3",
   "version": "3.13.2"
  }
 },
 "nbformat": 4,
 "nbformat_minor": 5
}
