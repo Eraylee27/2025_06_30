{
 "cells": [
  {
   "cell_type": "code",
   "execution_count": 10,
   "id": "82f3da5a",
   "metadata": {},
   "outputs": [
    {
     "name": "stdout",
     "output_type": "stream",
     "text": [
      "Taiwan,\n",
      "程式結束\n"
     ]
    }
   ],
   "source": [
    "#使用時機,不知道要執行幾次迴圈\n",
    "#配合條件式if,並使用break停止迴圈\n",
    "\n",
    "while(True):\n",
    "    stuff = input(\"請輸入小寫,會自動轉成大寫[按下Q會離開]:\")\n",
    "    if stuff == \"Q\":\n",
    "        break\n",
    "    print(stuff.capitalize(),end = \",\")\n",
    "print(\"\\n程式結束\")"
   ]
  },
  {
   "cell_type": "code",
   "execution_count": 26,
   "id": "c7c48631",
   "metadata": {},
   "outputs": [
    {
     "name": "stdout",
     "output_type": "stream",
     "text": [
      "輸入的次數式1,所有輸入的正偶數的加總為:0\n",
      "\n",
      "程式結束\n"
     ]
    }
   ],
   "source": [
    "#break,continue\n",
    "#使用者輸入數值，只加總正偶數值，不加總正奇數值，輸入負數則結束程式\n",
    "num = 0\n",
    "sum = 0\n",
    "while(True):\n",
    "    input_value = int(input(f\"請輸入第{num + 1}個數值:\"))\n",
    "    if input_value < 0:\n",
    "        break                               #跳出迴圈\n",
    "    num += 1\n",
    "    if input_value % 2 == 1:\n",
    "        continue                            #跳下一輪迴圈\n",
    "    sum += input_value\n",
    "\n",
    "print(f\"輸入的次數式{num},所有輸入的正偶數的加總為:{sum}\")\n",
    "print(\"\\n程式結束\")"
   ]
  }
 ],
 "metadata": {
  "kernelspec": {
   "display_name": "base",
   "language": "python",
   "name": "python3"
  },
  "language_info": {
   "codemirror_mode": {
    "name": "ipython",
    "version": 3
   },
   "file_extension": ".py",
   "mimetype": "text/x-python",
   "name": "python",
   "nbconvert_exporter": "python",
   "pygments_lexer": "ipython3",
   "version": "3.13.2"
  }
 },
 "nbformat": 4,
 "nbformat_minor": 5
}
