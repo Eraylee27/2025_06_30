{
 "cells": [
  {
   "cell_type": "code",
   "execution_count": null,
   "id": "d169a7ab",
   "metadata": {},
   "outputs": [],
   "source": [
    "請自訂2個function\n",
    "\n",
    "get_bmi()\n",
    "get_status()\n",
    "main()"
   ]
  },
  {
   "cell_type": "code",
   "execution_count": 13,
   "id": "c0d4aaa1",
   "metadata": {},
   "outputs": [
    {
     "name": "stdout",
     "output_type": "stream",
     "text": [
      "您的身高為:160.0\n",
      "您的體重為:45.0\n",
      "👉你的BMI為: 17.6\n",
      "👉您的BMI為 體重過輕❌\n"
     ]
    }
   ],
   "source": [
    "def get_bmi():\n",
    "    height = float(input('請輸入身高120-250cm):'))\n",
    "    if not (120 <= height <= 250):\n",
    "        raise Exception('身高範圍輸入錯誤')\n",
    "    weight = float(input('請輸入體重30-200kg):'))\n",
    "    if not (30 <= weight <=200):\n",
    "         raise Exception('體重範圍輸入錯誤')\n",
    "    bmi = weight / ((height  / 100) **2)\n",
    "    print(f\"您的身高為:{height}\\n您的體重為:{weight}\")\n",
    "    print(f'👉你的BMI為:',round(bmi,1))\n",
    "    return bmi\n",
    "\n",
    "def get_status(bmi):\n",
    "        if bmi < 18.5:\n",
    "            x = '體重過輕❌'\n",
    "        elif 18.5 <= bmi < 24:\n",
    "            x = '正常範圍✅'\n",
    "        elif 24 <= bmi < 27:\n",
    "            x = '體重過重❌'\n",
    "        elif 27 <= bmi < 30:\n",
    "            x = '輕度肥胖❌'\n",
    "        elif 30 <= bmi < 35:\n",
    "            x = '中度肥胖❌'\n",
    "        elif bmi >= 35:\n",
    "            x = '重度肥胖❌'\n",
    "        print('👉您的BMI為',x)\n",
    "\n",
    "def main():\n",
    "    try:\n",
    "        bmi = get_bmi()\n",
    "        get_status(bmi)\n",
    "    except ValueError:\n",
    "        print(\"格式錯誤\")\n",
    "    except Exception as e:\n",
    "        print(e) \n",
    "\n",
    "if __name__ == \"__main__\":\n",
    "    main()"
   ]
  }
 ],
 "metadata": {
  "kernelspec": {
   "display_name": "base",
   "language": "python",
   "name": "python3"
  },
  "language_info": {
   "codemirror_mode": {
    "name": "ipython",
    "version": 3
   },
   "file_extension": ".py",
   "mimetype": "text/x-python",
   "name": "python",
   "nbconvert_exporter": "python",
   "pygments_lexer": "ipython3",
   "version": "3.13.2"
  }
 },
 "nbformat": 4,
 "nbformat_minor": 5
}
