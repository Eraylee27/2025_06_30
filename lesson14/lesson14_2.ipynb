{
 "cells": [
  {
   "cell_type": "code",
   "execution_count": 2,
   "id": "1b650414",
   "metadata": {},
   "outputs": [],
   "source": [
    "#載入字型\n",
    "import matplotlib as mpl\n",
    "from matplotlib.font_manager import fontManager\n",
    "\n",
    "fontManager.addfont('ChineseFont.ttf')  # 字型檔路徑\n",
    "mpl.rc('font', family='ChineseFont')"
   ]
  }
 ],
 "metadata": {
  "kernelspec": {
   "display_name": "data",
   "language": "python",
   "name": "python3"
  },
  "language_info": {
   "codemirror_mode": {
    "name": "ipython",
    "version": 3
   },
   "file_extension": ".py",
   "mimetype": "text/x-python",
   "name": "python",
   "nbconvert_exporter": "python",
   "pygments_lexer": "ipython3",
   "version": "3.12.11"
  }
 },
 "nbformat": 4,
 "nbformat_minor": 5
}
