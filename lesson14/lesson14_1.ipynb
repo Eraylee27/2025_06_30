{
 "cells": [
  {
   "cell_type": "code",
   "execution_count": null,
   "id": "f6552ec0",
   "metadata": {},
   "outputs": [],
   "source": [
    "#需要Figure,Axes實體\n",
    "\n",
    "#標準寫法\n",
    "import matplotlib.pyplot as plt\n",
    "from matplotlib.figure import Figure\n",
    "from matplotlib.axes import Axes\n",
    "\n",
    "# 1.製作figure\n",
    "fig:Figure = plt.figure()\n",
    "\n",
    "# 2.在1.的figure上製作一個axes\n",
    "ax_1:Axes = fig.add_subplot(1, 1, 1)\n",
    "ax_1.set_title('this is a chart')\n",
    "\n",
    "# 3.將圖的數據儲存在axes中\n",
    "X = [0, 1, 2]\n",
    "Y = [3, 4, 5]\n",
    "ax_1.plot(X, Y, color='g', marker='<', linestyle='--', linewidth=2, label='數據1', alpha=0.8, markersize=10)\n",
    "\n",
    "\n",
    "# 4.顯示圖\n",
    "plt.show()"
   ]
  }
 ],
 "metadata": {
  "kernelspec": {
   "display_name": "data",
   "language": "python",
   "name": "python3"
  },
  "language_info": {
   "name": "python",
   "version": "3.12.11"
  }
 },
 "nbformat": 4,
 "nbformat_minor": 5
}
