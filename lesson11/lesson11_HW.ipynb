{
 "cells": [
  {
   "cell_type": "code",
   "execution_count": 2,
   "id": "5c935676",
   "metadata": {},
   "outputs": [
    {
     "name": "stdout",
     "output_type": "stream",
     "text": [
      "[{'國文': 83, '姓名': '楊建安', '數學': 92, '英文': 74},\n",
      " {'國文': 68, '姓名': '羅幸娥', '數學': 96, '英文': 76},\n",
      " {'國文': 50, '姓名': '方筠紹', '數學': 71, '英文': 66}]\n"
     ]
    }
   ],
   "source": [
    "#有一個names.txt\n",
    "#讀取names.txt\n",
    "#請隨機取出3個名字\n",
    "import random\n",
    "from pprint import pprint\n",
    "\n",
    "\n",
    "random.seed(4561)\n",
    "\n",
    "def sample_names_from_file(file_name: str, nums: int = 1) -> list[str]:\n",
    "\n",
    "    with open(file_name, encoding=\"utf-8\") as file:\n",
    "        content: str = file.read()\n",
    "        names: list[str] = content.split()\n",
    "        return random.sample(names, nums)\n",
    "\n",
    "def generate_scores_for_names(names: list[str]) -> list[dict]:\n",
    "\n",
    "    result_list = []\n",
    "    for person_name in names:\n",
    "        student_scores:dict = {\"姓名\":person_name}\n",
    "        for subject in [\"國文\", \"英文\", \"數學\"]:\n",
    "            student_scores[subject] = random.randint(50, 100) \n",
    "        result_list.append(student_scores)\n",
    "\n",
    "    return result_list\n",
    "\n",
    "def main():\n",
    "    names: list[str] = sample_names_from_file(\"names.txt\", nums=3)\n",
    "    students: list[dict] = generate_scores_for_names(names)\n",
    "    pprint(students)\n",
    "\n",
    "if __name__ == \"__main__\":\n",
    "    main()"
   ]
  },
  {
   "cell_type": "code",
   "execution_count": 4,
   "id": "fb141c30",
   "metadata": {},
   "outputs": [],
   "source": [
    "\n",
    "#有一個names.txt\n",
    "#讀取names.txt\n",
    "#請隨機取出3個名字\n",
    "import random\n",
    "\n",
    "random.seed(4561)\n",
    "\n",
    "def sample_names_from_file(file_name: str, nums: int = 1) -> list[str]:\n",
    "\n",
    "    with open(file_name, encoding=\"utf-8\") as file:\n",
    "        content: str = file.read()\n",
    "        names: list[str] = content.split()\n",
    "        return random.sample(names, nums)\n",
    "\n",
    "def generate_scores_for_names(names: list[str]) -> list[dict]:\n",
    "\n",
    "    result_list = []\n",
    "    for person_name in names:\n",
    "        student_scores:dict = {\"姓名\":person_name}\n",
    "        for subject in [\"國文\", \"英文\", \"數學\"]:\n",
    "            student_scores[subject] = random.randint(50, 100) \n",
    "        result_list.append(student_scores)\n",
    "\n",
    "    return result_list\n",
    "\n",
    "#建立一個function,傳入students\n",
    "#儲存為students.csv檔\n",
    "def save_students_to_csv(students: list[dict], file_name: str = \"students.csv\") -> None:\n",
    "\n",
    "    import csv\n",
    "    with open(file_name, mode='w', newline='', encoding='utf-8') as file:\n",
    "        writer = csv.DictWriter(file, fieldnames=students[0].keys())\n",
    "        writer.writeheader()\n",
    "        writer.writerows(students)\n",
    "\n",
    "\n",
    "def main():\n",
    "    names: list[str] = sample_names_from_file(\"names.txt\", nums=50)\n",
    "    students: list[dict] = generate_scores_for_names(names)\n",
    "    save_students_to_csv(students)\n",
    "\n",
    "if __name__ == \"__main__\":\n",
    "    main()"
   ]
  }
 ],
 "metadata": {
  "kernelspec": {
   "display_name": "base",
   "language": "python",
   "name": "python3"
  },
  "language_info": {
   "codemirror_mode": {
    "name": "ipython",
    "version": 3
   },
   "file_extension": ".py",
   "mimetype": "text/x-python",
   "name": "python",
   "nbconvert_exporter": "python",
   "pygments_lexer": "ipython3",
   "version": "3.13.2"
  }
 },
 "nbformat": 4,
 "nbformat_minor": 5
}
