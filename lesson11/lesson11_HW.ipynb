{
 "cells": [
  {
   "cell_type": "code",
   "execution_count": null,
   "id": "5c935676",
   "metadata": {},
   "outputs": [],
   "source": [
    "#有一個names.txt\n",
    "#讀取names.txt\n",
    "#請隨機取出3個名字\n",
    "import random\n",
    "from pprint import pprint\n",
    "\n",
    "\n",
    "random.seed(4561)\n",
    "\n",
    "def sample_names_from_file(file_name: str, nums: int = 1) -> list[str]:\n",
    "\n",
    "    with open(file_name, encoding=\"utf-8\") as file:\n",
    "        content: str = file.read()\n",
    "        names: list[str] = content.split()\n",
    "        return random.sample(names, nums)\n",
    "\n",
    "def generate_scores_for_names(names: list[str]) -> list[dict]:\n",
    "\n",
    "    result_list = []\n",
    "    for person_name in names:\n",
    "        student_scores:dict = {\"姓名\":person_name}\n",
    "        for subject in [\"國文\", \"英文\", \"數學\"]:\n",
    "            student_scores[subject] = random.randint(50, 100) \n",
    "        result_list.append(student_scores)\n",
    "\n",
    "    return result_list\n",
    "\n",
    "def main():\n",
    "    names: list[str] = sample_names_from_file(\"names.txt\", nums=3)\n",
    "    students: list[dict] = generate_scores_for_names(names)\n",
    "    pprint(students)\n",
    "\n",
    "if __name__ == \"__main__\":\n",
    "    main()"
   ]
  }
 ],
 "metadata": {
  "language_info": {
   "name": "python"
  }
 },
 "nbformat": 4,
 "nbformat_minor": 5
}
