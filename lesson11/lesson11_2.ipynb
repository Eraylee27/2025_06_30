{
 "cells": [
  {
   "cell_type": "code",
   "execution_count": null,
   "id": "ad9bbb4e",
   "metadata": {},
   "outputs": [
    {
     "data": {
      "text/plain": [
       "'Taiwan'"
      ]
     },
     "execution_count": 2,
     "metadata": {},
     "output_type": "execute_result"
    }
   ],
   "source": [
    "#dict,一組有關聯的資料\n",
    "#\"TW\" 為 key\n",
    "#\"Taiwan\" 為 value\n",
    "#\"TW\":\"Taiwan\"(key-value) 為 item\n",
    "\n",
    "country_codes = {\n",
    "    \"CN\": \"China\",\n",
    "    \"TW\": \"Taiwan\",\n",
    "    \"JP\": \"Japan\",\n",
    "    \"US\": \"United States\"\n",
    "}\n",
    "country_codes[\"KR\"] = \"South Korea\"  # 新增一個國家\n",
    "country_codes[\"TW\"] "
   ]
  },
  {
   "cell_type": "code",
   "execution_count": 4,
   "id": "949f7216",
   "metadata": {},
   "outputs": [
    {
     "name": "stdout",
     "output_type": "stream",
     "text": [
      "Japan\n"
     ]
    },
    {
     "data": {
      "text/plain": [
       "{'CN': 'China',\n",
       " 'TW': 'Taiwan',\n",
       " 'JP': 'Japan',\n",
       " 'US': 'United States',\n",
       " 'KR': 'South Korea'}"
      ]
     },
     "execution_count": 4,
     "metadata": {},
     "output_type": "execute_result"
    }
   ],
   "source": [
    "print(country_codes[\"JP\"])  #取得日本的名稱\n",
    "country_codes"
   ]
  },
  {
   "cell_type": "code",
   "execution_count": 11,
   "id": "9ca90a7d",
   "metadata": {},
   "outputs": [
    {
     "name": "stdout",
     "output_type": "stream",
     "text": [
      "key: CN:China\n",
      "key: TW:Taiwan\n",
      "key: JP:Japan\n",
      "key: US:United States\n",
      "key: KR:South Korea\n"
     ]
    }
   ],
   "source": [
    "#使用for...in mapping\n",
    "\n",
    "for key in country_codes:\n",
    "    print(f\"key: {key}:{country_codes[key]}\")"
   ]
  },
  {
   "cell_type": "code",
   "execution_count": null,
   "id": "e2fe4252",
   "metadata": {},
   "outputs": [
    {
     "name": "stdout",
     "output_type": "stream",
     "text": [
      "True\n"
     ]
    },
    {
     "data": {
      "text/plain": [
       "False"
      ]
     },
     "execution_count": 10,
     "metadata": {},
     "output_type": "execute_result"
    }
   ],
   "source": [
    "#使用 str in mapping\n",
    "#檢查dict有無此key\n",
    "\n",
    "\"JP\" in country_codes  #傳出布林值\n",
    "\"Uk\" in country_codes"
   ]
  },
  {
   "cell_type": "code",
   "execution_count": 13,
   "id": "9a6fd0c4",
   "metadata": {},
   "outputs": [
    {
     "name": "stdout",
     "output_type": "stream",
     "text": [
      "無此key\n"
     ]
    }
   ],
   "source": [
    "if \"UK\" in country_codes:\n",
    "    print(country_codes)\n",
    "else:\n",
    "    print(\"無此key\")"
   ]
  },
  {
   "cell_type": "code",
   "execution_count": 16,
   "id": "82b13284",
   "metadata": {},
   "outputs": [
    {
     "data": {
      "text/plain": [
       "'無此key'"
      ]
     },
     "execution_count": 16,
     "metadata": {},
     "output_type": "execute_result"
    }
   ],
   "source": [
    "country_codes.get(\"UK\",\"無此key\")"
   ]
  },
  {
   "cell_type": "code",
   "execution_count": null,
   "id": "28d021b3",
   "metadata": {},
   "outputs": [
    {
     "name": "stdout",
     "output_type": "stream",
     "text": [
      "CN\n",
      "TW\n",
      "JP\n",
      "US\n",
      "KR\n"
     ]
    }
   ],
   "source": [
    "country_codes.keys()  #like list\n",
    "for key in country_codes.keys():\n",
    "    print(key)   \t#回傳所有key的集合"
   ]
  },
  {
   "cell_type": "code",
   "execution_count": null,
   "id": "8ffe11f0",
   "metadata": {},
   "outputs": [
    {
     "name": "stdout",
     "output_type": "stream",
     "text": [
      "China\n",
      "Taiwan\n",
      "Japan\n",
      "United States\n",
      "South Korea\n"
     ]
    }
   ],
   "source": [
    "for value in country_codes.values():\n",
    "    print(value)   #回傳所有value的集合"
   ]
  },
  {
   "cell_type": "code",
   "execution_count": null,
   "id": "caf26d53",
   "metadata": {},
   "outputs": [
    {
     "name": "stdout",
     "output_type": "stream",
     "text": [
      "('CN', 'China')\n",
      "('TW', 'Taiwan')\n",
      "('JP', 'Japan')\n",
      "('US', 'United States')\n",
      "('KR', 'South Korea')\n"
     ]
    }
   ],
   "source": [
    "for item in country_codes.items():\n",
    "    print(item)   #回傳所有值（key-value）,為tuple"
   ]
  },
  {
   "cell_type": "code",
   "execution_count": 22,
   "id": "39997e75",
   "metadata": {},
   "outputs": [
    {
     "name": "stdout",
     "output_type": "stream",
     "text": [
      "CN:China\n",
      "TW:Taiwan\n",
      "JP:Japan\n",
      "US:United States\n",
      "KR:South Korea\n"
     ]
    }
   ],
   "source": [
    "for key,value in country_codes.items():\n",
    "    print(f\"{key}:{value}\")"
   ]
  }
 ],
 "metadata": {
  "kernelspec": {
   "display_name": "base",
   "language": "python",
   "name": "python3"
  },
  "language_info": {
   "codemirror_mode": {
    "name": "ipython",
    "version": 3
   },
   "file_extension": ".py",
   "mimetype": "text/x-python",
   "name": "python",
   "nbconvert_exporter": "python",
   "pygments_lexer": "ipython3",
   "version": "3.13.2"
  }
 },
 "nbformat": 4,
 "nbformat_minor": 5
}
