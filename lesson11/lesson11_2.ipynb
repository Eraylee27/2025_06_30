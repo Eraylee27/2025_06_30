{
 "cells": [
  {
   "cell_type": "code",
   "execution_count": null,
   "id": "ad9bbb4e",
   "metadata": {},
   "outputs": [
    {
     "data": {
      "text/plain": [
       "'Taiwan'"
      ]
     },
     "execution_count": 2,
     "metadata": {},
     "output_type": "execute_result"
    }
   ],
   "source": [
    "#dict,一組有關聯的資料\n",
    "\n",
    "country_codes = {\n",
    "    \"CN\": \"China\",\n",
    "    \"TW\": \"Taiwan\",\n",
    "    \"JP\": \"Japan\",\n",
    "    \"US\": \"United States\"\n",
    "}\n",
    "country_codes[\"KR\"] = \"South Korea\"  # 新增一個國家\n",
    "country_codes[\"TW\"] "
   ]
  },
  {
   "cell_type": "code",
   "execution_count": 4,
   "id": "949f7216",
   "metadata": {},
   "outputs": [
    {
     "name": "stdout",
     "output_type": "stream",
     "text": [
      "Japan\n"
     ]
    },
    {
     "data": {
      "text/plain": [
       "{'CN': 'China',\n",
       " 'TW': 'Taiwan',\n",
       " 'JP': 'Japan',\n",
       " 'US': 'United States',\n",
       " 'KR': 'South Korea'}"
      ]
     },
     "execution_count": 4,
     "metadata": {},
     "output_type": "execute_result"
    }
   ],
   "source": [
    "print(country_codes[\"JP\"])  #取得日本的名稱\n",
    "country_codes"
   ]
  }
 ],
 "metadata": {
  "kernelspec": {
   "display_name": "base",
   "language": "python",
   "name": "python3"
  },
  "language_info": {
   "codemirror_mode": {
    "name": "ipython",
    "version": 3
   },
   "file_extension": ".py",
   "mimetype": "text/x-python",
   "name": "python",
   "nbconvert_exporter": "python",
   "pygments_lexer": "ipython3",
   "version": "3.13.2"
  }
 },
 "nbformat": 4,
 "nbformat_minor": 5
}
