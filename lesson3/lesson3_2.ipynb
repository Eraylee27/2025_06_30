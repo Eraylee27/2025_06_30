{
 "cells": [
  {
   "cell_type": "code",
   "execution_count": null,
   "id": "67bfb520",
   "metadata": {},
   "outputs": [],
   "source": [
    "#數字 + 字串 → 錯誤\n",
    " 35 + \"10\""
   ]
  },
  {
   "cell_type": "code",
   "execution_count": null,
   "id": "116ad7eb",
   "metadata": {},
   "outputs": [
    {
     "data": {
      "text/plain": [
       "'3510'"
      ]
     },
     "execution_count": 2,
     "metadata": {},
     "output_type": "execute_result"
    }
   ],
   "source": [
    "#字串 + 字串 → 正確\n",
    "\"35\" + \"10\"\n",
    "\n",
    "#字串 - 字串 → 錯誤\n",
    "\"35\" - \"10\""
   ]
  },
  {
   "cell_type": "code",
   "execution_count": null,
   "id": "729a1ed9",
   "metadata": {},
   "outputs": [
    {
     "data": {
      "text/plain": [
       "float"
      ]
     },
     "execution_count": 13,
     "metadata": {},
     "output_type": "execute_result"
    }
   ],
   "source": [
    "number1 = 10 #建立變數number1\n",
    "type(number1) #檢查變數型別\n",
    "\n",
    "number2 = 20.0\n",
    "type(number2)\n",
    "\n",
    "value = number1 + number2\n",
    "value\n",
    "type(value)"
   ]
  },
  {
   "cell_type": "code",
   "execution_count": null,
   "id": "52c15d9c",
   "metadata": {},
   "outputs": [
    {
     "data": {
      "text/plain": [
       "int"
      ]
     },
     "execution_count": 29,
     "metadata": {},
     "output_type": "execute_result"
    }
   ],
   "source": [
    "#轉換型別\n",
    "str1 = \"30\"\n",
    "num1 = 30\n",
    "value = int(str1) + num1 #轉換為整數\n",
    "value\n",
    "type(value)"
   ]
  },
  {
   "cell_type": "code",
   "execution_count": null,
   "id": "bf6ba5f5",
   "metadata": {},
   "outputs": [],
   "source": [
    "#int(\"30a\") #無法轉換"
   ]
  }
 ],
 "metadata": {
  "kernelspec": {
   "display_name": "base",
   "language": "python",
   "name": "python3"
  },
  "language_info": {
   "codemirror_mode": {
    "name": "ipython",
    "version": 3
   },
   "file_extension": ".py",
   "mimetype": "text/x-python",
   "name": "python",
   "nbconvert_exporter": "python",
   "pygments_lexer": "ipython3",
   "version": "3.13.2"
  }
 },
 "nbformat": 4,
 "nbformat_minor": 5
}
