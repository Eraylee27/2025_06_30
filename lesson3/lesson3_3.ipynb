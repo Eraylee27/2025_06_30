{
 "cells": [
  {
   "cell_type": "code",
   "execution_count": 24,
   "id": "4d4be139",
   "metadata": {},
   "outputs": [
    {
     "name": "stdout",
     "output_type": "stream",
     "text": [
      "梯形面積: 23056.192499999997\n",
      "梯形面積: 23056.19\n"
     ]
    }
   ],
   "source": [
    "#輸入梯形的上底(cm):13.5\n",
    "#    梯形的下底(cm):21.3\n",
    "#    梯形的  高(cm):2.3\n",
    "\n",
    "top = float(input(\"輸入上底(cm)\"))\n",
    "bottom = float(input(\"輸入下底(cm)\"))\n",
    "height = float(input(\"輸入高(cm)\"))\n",
    "\n",
    "area = (top + bottom) * height / 2\n",
    "print(\"梯形面積:\",area)\n",
    "print(\"梯形面積:\",round(area,ndigits = 2)) #四捨五入{ndigits(位數)原有預設值為None,若不用預設的就要將ndigits=?打出來,不打表示用原有的(None)}\n",
    "\n"
   ]
  },
  {
   "cell_type": "code",
   "execution_count": 20,
   "id": "4656a485",
   "metadata": {},
   "outputs": [
    {
     "data": {
      "text/plain": [
       "1.0"
      ]
     },
     "execution_count": 20,
     "metadata": {},
     "output_type": "execute_result"
    }
   ],
   "source": [
    "value = input(\"請輸入一個數值:\")\n",
    "type(value)\n",
    "value_float = float(value)\n",
    "value_float"
   ]
  },
  {
   "cell_type": "code",
   "execution_count": 21,
   "id": "e38fbc61",
   "metadata": {},
   "outputs": [],
   "source": [
    "value = float(input(\"請輸入一個數值:\"))\n"
   ]
  },
  {
   "cell_type": "code",
   "execution_count": 5,
   "id": "c8707e27",
   "metadata": {},
   "outputs": [
    {
     "name": "stdout",
     "output_type": "stream",
     "text": [
      "24.0\n"
     ]
    },
    {
     "data": {
      "text/plain": [
       "NoneType"
      ]
     },
     "execution_count": 5,
     "metadata": {},
     "output_type": "execute_result"
    }
   ],
   "source": [
    "bottom = float(input(\"輸入底\"))\n",
    "height = float(input(\"輸入高\"))\n",
    "type(print(round(bottom*height,ndigits = 2)))"
   ]
  },
  {
   "cell_type": "code",
   "execution_count": 19,
   "id": "e4f2f59b",
   "metadata": {},
   "outputs": [
    {
     "name": "stdout",
     "output_type": "stream",
     "text": [
      "6\n",
      "<class 'int'>\n"
     ]
    }
   ],
   "source": [
    "one = int(input('輸入'))\n",
    "two = int(input('輸入'))\n",
    "area = one * two\n",
    "print(area)\n",
    "print(type(area))\n"
   ]
  }
 ],
 "metadata": {
  "kernelspec": {
   "display_name": "base",
   "language": "python",
   "name": "python3"
  },
  "language_info": {
   "codemirror_mode": {
    "name": "ipython",
    "version": 3
   },
   "file_extension": ".py",
   "mimetype": "text/x-python",
   "name": "python",
   "nbconvert_exporter": "python",
   "pygments_lexer": "ipython3",
   "version": "3.13.2"
  }
 },
 "nbformat": 4,
 "nbformat_minor": 5
}
