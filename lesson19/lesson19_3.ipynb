{
 "cells": [
  {
   "cell_type": "code",
   "execution_count": 1,
   "id": "20daa864",
   "metadata": {},
   "outputs": [
    {
     "name": "stdout",
     "output_type": "stream",
     "text": [
      "資料夾：c:\\Users\\Administrator\\OneDrive\\Documents\\Github\\2025_06_30\\lesson19\\每日各站進出站人數，找到 5 個檔案（已排除 manifest/schema）\n",
      "C:\\Users\\Administrator\\OneDrive\\Documents\\Github\\2025_06_30\\lesson19\\每日各站進出站人數\\每日各站進出站人數20190423-20191231.csv\n",
      "C:\\Users\\Administrator\\OneDrive\\Documents\\Github\\2025_06_30\\lesson19\\每日各站進出站人數\\每日各站進出站人數2020.csv\n",
      "C:\\Users\\Administrator\\OneDrive\\Documents\\Github\\2025_06_30\\lesson19\\每日各站進出站人數\\每日各站進出站人數2021.csv\n",
      "C:\\Users\\Administrator\\OneDrive\\Documents\\Github\\2025_06_30\\lesson19\\每日各站進出站人數\\每日各站進出站人數2022.csv\n",
      "C:\\Users\\Administrator\\OneDrive\\Documents\\Github\\2025_06_30\\lesson19\\每日各站進出站人數\\每日各站進出站人數2023.csv\n"
     ]
    }
   ],
   "source": [
    "from pathlib import Path\n",
    "\n",
    "def list_daily_station_files(root: Path = Path(r\"c:\\Users\\Administrator\\OneDrive\\Documents\\Github\\2025_06_30\"),\n",
    "                             folder_name: str = \"每日各站進出站人數\",\n",
    "                             exclude_names=(\"{manifest.csv}\", \"{schema.csv}\")):\n",
    "    root = Path(root)\n",
    "    # 找到所有同名資料夾\n",
    "    found_dirs = list(root.rglob(folder_name))\n",
    "    if not found_dirs:\n",
    "        print(f\"找不到資料夾：{folder_name}，搜尋根目錄：{root}\")\n",
    "        return []\n",
    "\n",
    "    # 正規化排除清單（小寫）\n",
    "    exclude = {n.lower().strip(\"{}\") for n in exclude_names}\n",
    "    all_paths = []\n",
    "    for d in found_dirs:\n",
    "        files = [p.resolve() for p in d.rglob(\"*\")\n",
    "                 if p.is_file() and p.name.lower() not in exclude]\n",
    "        files.sort()\n",
    "        print(f\"資料夾：{d}，找到 {len(files)} 個檔案（已排除 manifest/schema）\")\n",
    "        for f in files:\n",
    "            print(f)\n",
    "        all_paths.extend(files)\n",
    "\n",
    "    # 移除重複並回傳\n",
    "    unique_paths = sorted(dict.fromkeys(all_paths))\n",
    "    return unique_paths\n",
    "\n",
    "# 範例執行\n",
    "paths = list_daily_station_files()\n",
    "# 如果需要，paths 現在是所有絕對路徑的 list"
   ]
  },
  {
   "cell_type": "code",
   "execution_count": 2,
   "id": "17b1d085",
   "metadata": {},
   "outputs": [
    {
     "name": "stdout",
     "output_type": "stream",
     "text": [
      "資料夾絕對路徑:\n",
      "C:\\Users\\Administrator\\OneDrive\\Documents\\Github\\2025_06_30\\lesson19\\每日各站進出站人數\n",
      "\n",
      "檔案絕對路徑 (已排除 manifest.csv, schema.csv):\n",
      "['C:\\\\Users\\\\Administrator\\\\OneDrive\\\\Documents\\\\Github\\\\2025_06_30\\\\lesson19\\\\每日各站進出站人數\\\\每日各站進出站人數20190423-20191231.csv',\n",
      " 'C:\\\\Users\\\\Administrator\\\\OneDrive\\\\Documents\\\\Github\\\\2025_06_30\\\\lesson19\\\\每日各站進出站人數\\\\每日各站進出站人數2020.csv',\n",
      " 'C:\\\\Users\\\\Administrator\\\\OneDrive\\\\Documents\\\\Github\\\\2025_06_30\\\\lesson19\\\\每日各站進出站人數\\\\每日各站進出站人數2021.csv',\n",
      " 'C:\\\\Users\\\\Administrator\\\\OneDrive\\\\Documents\\\\Github\\\\2025_06_30\\\\lesson19\\\\每日各站進出站人數\\\\每日各站進出站人數2022.csv',\n",
      " 'C:\\\\Users\\\\Administrator\\\\OneDrive\\\\Documents\\\\Github\\\\2025_06_30\\\\lesson19\\\\每日各站進出站人數\\\\每日各站進出站人數2023.csv']\n"
     ]
    }
   ],
   "source": [
    "from pathlib import Path\n",
    "from pprint import pprint\n",
    "\n",
    "def list_daily_flow_files(base_dir: Path | None = None):\n",
    "    \"\"\"\n",
    "    1. 取得 '每日各站進出站人數' 資料夾\n",
    "    2. 取得其中所有 CSV 檔案的絕對路徑\n",
    "    3. 排除 manifest.csv 與 schema.csv\n",
    "    \"\"\"\n",
    "    if base_dir is None:\n",
    "        base_dir = Path.cwd()  # 與 lesson19_2.ipynb 做法一致\n",
    "    target_dir = base_dir / \"每日各站進出站人數\"\n",
    "    if not target_dir.is_dir():\n",
    "        raise FileNotFoundError(f\"找不到資料夾: {target_dir}\")\n",
    "\n",
    "    excluded = {\"manifest.csv\", \"schema.csv\"}\n",
    "    csv_paths = sorted(\n",
    "        p.resolve()\n",
    "        for p in target_dir.glob(\"*.csv\")\n",
    "        if p.name not in excluded\n",
    "    )\n",
    "    return target_dir.resolve(), csv_paths\n",
    "\n",
    "folder_abs_path, file_abs_paths = list_daily_flow_files()\n",
    "\n",
    "print(\"資料夾絕對路徑:\")\n",
    "print(folder_abs_path)\n",
    "print(\"\\n檔案絕對路徑 (已排除 manifest.csv, schema.csv):\")\n",
    "pprint([str(p) for p in file_abs_paths])"
   ]
  }
 ],
 "metadata": {
  "kernelspec": {
   "display_name": "data",
   "language": "python",
   "name": "python3"
  },
  "language_info": {
   "codemirror_mode": {
    "name": "ipython",
    "version": 3
   },
   "file_extension": ".py",
   "mimetype": "text/x-python",
   "name": "python",
   "nbconvert_exporter": "python",
   "pygments_lexer": "ipython3",
   "version": "3.12.11"
  }
 },
 "nbformat": 4,
 "nbformat_minor": 5
}
