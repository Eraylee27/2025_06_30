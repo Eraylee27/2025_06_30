{
 "cells": [
  {
   "cell_type": "code",
   "execution_count": 12,
   "id": "57908c1e",
   "metadata": {},
   "outputs": [
    {
     "name": "stdout",
     "output_type": "stream",
     "text": [
      "學生等級是: 優\n"
     ]
    }
   ],
   "source": [
    "score = int(input(\"請輸入學生分數:\"))\n",
    "if score >= 90:\n",
    "    grade = \"優\"\n",
    "else:\n",
    "    if score >= 80:\n",
    "        grade = \"甲\"\n",
    "    else:\n",
    "        if score >= 70:\n",
    "            grade = \"乙\"\n",
    "        else:\n",
    "            if score >= 60:\n",
    "                grade = \"丙\"\n",
    "            else:\n",
    "                grade = \"丁\"\n",
    "                \n",
    "print(\"學生等級是:\",grade)"
   ]
  },
  {
   "cell_type": "code",
   "execution_count": null,
   "id": "435d5f4d",
   "metadata": {},
   "outputs": [
    {
     "name": "stdout",
     "output_type": "stream",
     "text": [
      "學生等級是: 優\n"
     ]
    }
   ],
   "source": [
    "#多項選擇 <法一>\n",
    "score = int(input(\"請輸入學生分數:\"))\n",
    "if score >= 90:      #嚴格得到True的放上面(ex.and放or上面)\n",
    "    grade = \"優\"\n",
    "elif score >= 80:    # else和if可以結合成elif(2個條件) → <90 , >=80\n",
    "    grade = \"甲\"\n",
    "elif score >= 70:\n",
    "    grade = \"乙\"\n",
    "elif score >= 60:\n",
    "    grade = \"丙\"\n",
    "else:\n",
    "    grade = \"丁\"      # 1個條件\n",
    "                \n",
    "print(\"學生等級是:\",grade)"
   ]
  },
  {
   "cell_type": "code",
   "execution_count": 14,
   "id": "8f44bda5",
   "metadata": {},
   "outputs": [
    {
     "name": "stdout",
     "output_type": "stream",
     "text": [
      "學生等級是: 優\n"
     ]
    }
   ],
   "source": [
    "# <法二>\n",
    "score = int(input(\"請輸入學生分數:\"))\n",
    "if score <= 60:      \n",
    "    grade = \"丁\"\n",
    "elif score <= 70:    \n",
    "    grade = \"丙\"\n",
    "elif score <= 80:\n",
    "    grade = \"乙\"\n",
    "elif score <= 90:\n",
    "    grade = \"甲\"\n",
    "else:\n",
    "    grade = \"優\"     \n",
    "                \n",
    "print(\"學生等級是:\",grade)"
   ]
  }
 ],
 "metadata": {
  "kernelspec": {
   "display_name": "base",
   "language": "python",
   "name": "python3"
  },
  "language_info": {
   "codemirror_mode": {
    "name": "ipython",
    "version": 3
   },
   "file_extension": ".py",
   "mimetype": "text/x-python",
   "name": "python",
   "nbconvert_exporter": "python",
   "pygments_lexer": "ipython3",
   "version": "3.13.2"
  }
 },
 "nbformat": 4,
 "nbformat_minor": 5
}
