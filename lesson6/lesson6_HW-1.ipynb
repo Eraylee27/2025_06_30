{
 "cells": [
  {
   "cell_type": "code",
   "execution_count": 3,
   "id": "efe6b442",
   "metadata": {},
   "outputs": [
    {
     "name": "stdout",
     "output_type": "stream",
     "text": [
      "您的身高為:160.0 (cm)    您的體重為:47.0 (kg)\n",
      "\n",
      "👉您的BMI為: 18.4 (kg/m²)\n",
      "您的BMI狀態為:過輕 ❌\n",
      "\n",
      "～應用程式結束～\n"
     ]
    }
   ],
   "source": [
    "try:\n",
    "    height = float(input(\"請輸入身高(120-250(cm))\"))\n",
    "    if not(120 <= height <= 250):\n",
    "        raise Exception(\"身高數字需在120~250(cm)內\")\n",
    "   \n",
    "    weight = float(input(\"請輸入體重(30~200(kg))\"))\n",
    "    if not(30 <= weight <= 200):\n",
    "        raise Exception(\"體重數字需在30~200(kg)內\")\n",
    "\n",
    "    print(f\"您的身高為:{height} (cm)    您的體重為:{weight} (kg)\\n\")\n",
    "        \n",
    "except ValueError as e:\n",
    "    print(\"格式錯誤\",e)\n",
    "except Exception as e:\n",
    "    print(e)\n",
    "\n",
    "else:\n",
    "    BMI = weight / (height / 100) ** 2\n",
    "    print(\"👉您的BMI為:\",round(BMI,ndigits = 1),\"(kg/m²)\") \n",
    "\n",
    "    if BMI < 18.5:\n",
    "        print(\"您的BMI狀態為:過輕 ❌\")\n",
    "    elif BMI < 24:\n",
    "        print(\"您的BMI狀態為:正常 ✅\")\n",
    "    elif BMI < 27:\n",
    "        print(\"您的BMI狀態為:過重 ❌\")\n",
    "    elif BMI < 30:\n",
    "        print(\"您的BMI狀態為:輕度肥胖 ❌\")\n",
    "    elif BMI < 35:\n",
    "        print(\"您的BMI狀態為:中度肥胖 ❌\")\n",
    "    else:\n",
    "        print(\"您的BMI狀態為:重度肥胖 ❌\")\n",
    "\n",
    "finally:\n",
    "    print(\"\\n～應用程式結束～\")"
   ]
  }
 ],
 "metadata": {
  "kernelspec": {
   "display_name": "base",
   "language": "python",
   "name": "python3"
  },
  "language_info": {
   "codemirror_mode": {
    "name": "ipython",
    "version": 3
   },
   "file_extension": ".py",
   "mimetype": "text/x-python",
   "name": "python",
   "nbconvert_exporter": "python",
   "pygments_lexer": "ipython3",
   "version": "3.13.2"
  }
 },
 "nbformat": 4,
 "nbformat_minor": 5
}
