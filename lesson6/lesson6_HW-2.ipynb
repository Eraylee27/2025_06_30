{
 "cells": [
  {
   "cell_type": "code",
   "execution_count": null,
   "id": "1934fd8c",
   "metadata": {},
   "outputs": [],
   "source": [
    "#第1題\n",
    "    輸入:\n",
    "    請輸入整數,求所有的因數:10\n",
    "\n",
    "    輸出:\n",
    "    10的因數有:1 2 5 10\n",
    "\n",
    "#第2題\n",
    "    輸入:\n",
    "    請輸入第1個整數:10\n",
    "    請輸入第2個整數:15\n",
    "\n",
    "    輸出:\n",
    "    10和15的公因數:1 5"
   ]
  },
  {
   "cell_type": "code",
   "execution_count": null,
   "id": "8f76030a",
   "metadata": {},
   "outputs": [],
   "source": [
    "for i in int(input(\"請輸入整數:\")):\n",
    "    pass"
   ]
  }
 ],
 "metadata": {
  "kernelspec": {
   "display_name": "base",
   "language": "python",
   "name": "python3"
  },
  "language_info": {
   "codemirror_mode": {
    "name": "ipython",
    "version": 3
   },
   "file_extension": ".py",
   "mimetype": "text/x-python",
   "name": "python",
   "nbconvert_exporter": "python",
   "pygments_lexer": "ipython3",
   "version": "3.13.2"
  }
 },
 "nbformat": 4,
 "nbformat_minor": 5
}
