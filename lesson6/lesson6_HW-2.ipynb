{
 "cells": [
  {
   "cell_type": "code",
   "execution_count": null,
   "id": "1934fd8c",
   "metadata": {},
   "outputs": [],
   "source": [
    "#第1題\n",
    "    輸入:\n",
    "    請輸入整數,求所有的因數:10\n",
    "\n",
    "    輸出:\n",
    "    10的因數有:1 2 5 10\n",
    "\n",
    "#第2題\n",
    "    輸入:\n",
    "    請輸入第1個整數:10\n",
    "    請輸入第2個整數:15\n",
    "\n",
    "    輸出:\n",
    "    10和15的公因數:1 5"
   ]
  },
  {
   "cell_type": "code",
   "execution_count": null,
   "id": "8f76030a",
   "metadata": {},
   "outputs": [],
   "source": [
    "value = int(input(\"請輸入一整數：\"))\n",
    "print(f\"{value} 的因數：\",end='')\n",
    "\n",
    "factor = 1\n",
    "while (factor <= value):\n",
    "    if value % factor == 0:\n",
    "        print(factor,end=' ')\n",
    "    factor += 1"
   ]
  },
  {
   "cell_type": "code",
   "execution_count": null,
   "id": "32cf06da",
   "metadata": {},
   "outputs": [],
   "source": [
    "value1 = int(input(\"請輸入第一個整數：\"))\n",
    "value2 = int(input(\"請輸入第二個整數：\"))\n",
    "print(f\"{value1} 及 {value2} 的公因數：\")\n",
    "\n",
    "factor = 1\n",
    "while (factor <= value1 and factor <= value2):\n",
    "    if value1 % factor == 0 and value2 % factor == 0:\n",
    "        print(factor)\n",
    "    factor += 1"
   ]
  },
  {
   "cell_type": "code",
   "execution_count": 6,
   "id": "a731939d",
   "metadata": {},
   "outputs": [
    {
     "name": "stdout",
     "output_type": "stream",
     "text": [
      "1 的因數為:\n"
     ]
    },
    {
     "ename": "ZeroDivisionError",
     "evalue": "integer modulo by zero",
     "output_type": "error",
     "traceback": [
      "\u001b[31m---------------------------------------------------------------------------\u001b[39m",
      "\u001b[31mZeroDivisionError\u001b[39m                         Traceback (most recent call last)",
      "\u001b[36mCell\u001b[39m\u001b[36m \u001b[39m\u001b[32mIn[6]\u001b[39m\u001b[32m, line 7\u001b[39m\n\u001b[32m      4\u001b[39m \u001b[38;5;28mprint\u001b[39m(value,\u001b[33m\"\u001b[39m\u001b[33m的因數為:\u001b[39m\u001b[33m\"\u001b[39m)\n\u001b[32m      6\u001b[39m \u001b[38;5;28;01mfor\u001b[39;00m factor \u001b[38;5;129;01min\u001b[39;00m \u001b[38;5;28mrange\u001b[39m(value):\n\u001b[32m----> \u001b[39m\u001b[32m7\u001b[39m     \u001b[38;5;28;01mif\u001b[39;00m \u001b[43mvalue\u001b[49m\u001b[43m \u001b[49m\u001b[43m%\u001b[49m\u001b[43m \u001b[49m\u001b[43mfactor\u001b[49m == \u001b[32m0\u001b[39m:\n\u001b[32m      8\u001b[39m         \u001b[38;5;28mprint\u001b[39m(value % factor)\n",
      "\u001b[31mZeroDivisionError\u001b[39m: integer modulo by zero"
     ]
    }
   ],
   "source": [
    "value = int(input(\"請輸入一個整數\"))\n",
    "if not(value != int) :\n",
    "    raise Exception(\"請輸入整數\")\n",
    "print(value,\"的因數為:\")\n",
    "\n",
    "for factor in range(value):\n",
    "    if value % factor == 0:\n",
    "        print(value % factor)"
   ]
  }
 ],
 "metadata": {
  "kernelspec": {
   "display_name": "base",
   "language": "python",
   "name": "python3"
  },
  "language_info": {
   "codemirror_mode": {
    "name": "ipython",
    "version": 3
   },
   "file_extension": ".py",
   "mimetype": "text/x-python",
   "name": "python",
   "nbconvert_exporter": "python",
   "pygments_lexer": "ipython3",
   "version": "3.13.2"
  }
 },
 "nbformat": 4,
 "nbformat_minor": 5
}
