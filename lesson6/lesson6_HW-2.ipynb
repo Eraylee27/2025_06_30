{
 "cells": [
  {
   "cell_type": "code",
   "execution_count": null,
   "id": "1934fd8c",
   "metadata": {},
   "outputs": [],
   "source": [
    "#第1題\n",
    "    輸入:\n",
    "    請輸入整數,求所有的因數:10\n",
    "\n",
    "    輸出:\n",
    "    10的因數有:1 2 5 10\n",
    "\n",
    "#第2題\n",
    "    輸入:\n",
    "    請輸入第1個整數:10\n",
    "    請輸入第2個整數:15\n",
    "\n",
    "    輸出:\n",
    "    10和15的公因數:1 5"
   ]
  },
  {
   "cell_type": "code",
   "execution_count": 31,
   "id": "acdafa73",
   "metadata": {},
   "outputs": [
    {
     "name": "stdout",
     "output_type": "stream",
     "text": [
      "12的因數有:\n",
      "1 2 3 4 6 12 \n",
      "～計算完成～\n"
     ]
    }
   ],
   "source": [
    "value = int(input(\"請輸入一個整數\"))\n",
    "factor = 1\n",
    "print(f\"{value}的因數有:\")\n",
    "\n",
    "while factor <= value:\n",
    "    if value % factor == 0:\n",
    "        print(factor,end=\" \" )\n",
    "    factor += 1\n",
    "\n",
    "print(\"\\n～計算完成～\")\n",
    "    "
   ]
  },
  {
   "cell_type": "code",
   "execution_count": 38,
   "id": "7f355498",
   "metadata": {},
   "outputs": [
    {
     "name": "stdout",
     "output_type": "stream",
     "text": [
      "1000和5000的公因數有:\n",
      "1 2 4 5 8 10 20 25 40 50 100 125 200 250 500 1000 \n",
      "～計算完成～\n"
     ]
    }
   ],
   "source": [
    "value1 = int(input(\"請輸入第一個整數\"))\n",
    "value2 = int(input(\"請輸入第二個整數\"))\n",
    "factor = 1\n",
    "print(f\"{value1}和{value2}的公因數有:\")\n",
    "\n",
    "while factor <= value1 and factor <= value2:\n",
    "    if value1 % factor == 0 and value2 % factor == 0:\n",
    "        print(factor,end=\" \")\n",
    "    factor += 1\n",
    "\n",
    "print(\"\\n～計算完成～\")"
   ]
  },
  {
   "cell_type": "code",
   "execution_count": null,
   "id": "f968c34b",
   "metadata": {},
   "outputs": [],
   "source": []
  }
 ],
 "metadata": {
  "kernelspec": {
   "display_name": "base",
   "language": "python",
   "name": "python3"
  },
  "language_info": {
   "codemirror_mode": {
    "name": "ipython",
    "version": 3
   },
   "file_extension": ".py",
   "mimetype": "text/x-python",
   "name": "python",
   "nbconvert_exporter": "python",
   "pygments_lexer": "ipython3",
   "version": "3.13.2"
  }
 },
 "nbformat": 4,
 "nbformat_minor": 5
}
