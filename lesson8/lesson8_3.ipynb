{
 "cells": [
  {
   "cell_type": "code",
   "execution_count": 1,
   "id": "4a765a23",
   "metadata": {},
   "outputs": [
    {
     "name": "stdout",
     "output_type": "stream",
     "text": [
      "Hello! 您好～\n"
     ]
    }
   ],
   "source": [
    "def say_hello()->None:  #->None為型別提示(可以不要)\n",
    "    print(\"Hello! 您好～\")\n",
    "\n",
    "say_hello()"
   ]
  },
  {
   "cell_type": "code",
   "execution_count": 2,
   "id": "38952767",
   "metadata": {},
   "outputs": [
    {
     "name": "stdout",
     "output_type": "stream",
     "text": [
      "Eray!您好\n"
     ]
    }
   ],
   "source": [
    "def say_hello(name):\n",
    "    print(f\"{name}!您好\")\n",
    "\n",
    "say_hello(\"Eray\")\n"
   ]
  },
  {
   "cell_type": "code",
   "execution_count": null,
   "id": "343ec7ad",
   "metadata": {},
   "outputs": [],
   "source": [
    "def say_hello(name:str):  #str(type hint)沒有強制性\n",
    "    print(f\"{name}!您好\")\n",
    "\n",
    "say_hello(\"Eray\")"
   ]
  },
  {
   "cell_type": "code",
   "execution_count": 3,
   "id": "aeae1305",
   "metadata": {},
   "outputs": [
    {
     "name": "stdout",
     "output_type": "stream",
     "text": [
      "Eray!您好\n"
     ]
    }
   ],
   "source": [
    "def say_hello(name:str) -> str:\n",
    "    return f\"{name}!您好\"  #return -> 回傳一個值(函式在執行後直接跳出)\n",
    "\n",
    "print(say_hello(\"Eray\"))  # 呼叫函式並印出結果"
   ]
  },
  {
   "cell_type": "code",
   "execution_count": null,
   "id": "b71940e4",
   "metadata": {},
   "outputs": [],
   "source": [
    "#型別提示(Type hint)\n",
    "name:str = \"Eray\"\n",
    "age:int = 15"
   ]
  }
 ],
 "metadata": {
  "kernelspec": {
   "display_name": "base",
   "language": "python",
   "name": "python3"
  },
  "language_info": {
   "codemirror_mode": {
    "name": "ipython",
    "version": 3
   },
   "file_extension": ".py",
   "mimetype": "text/x-python",
   "name": "python",
   "nbconvert_exporter": "python",
   "pygments_lexer": "ipython3",
   "version": "3.13.2"
  }
 },
 "nbformat": 4,
 "nbformat_minor": 5
}
