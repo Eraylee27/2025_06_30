{
 "cells": [
  {
   "cell_type": "code",
   "execution_count": 1,
   "id": "843a8ff6",
   "metadata": {},
   "outputs": [
    {
     "data": {
      "text/plain": [
       "array([ 0, 10, 20, 30, 40, 50, 60, 70, 80, 90])"
      ]
     },
     "execution_count": 1,
     "metadata": {},
     "output_type": "execute_result"
    }
   ],
   "source": [
    "import numpy as np\n",
    "arr = np.arange(10) * 10\n",
    "arr"
   ]
  },
  {
   "cell_type": "code",
   "execution_count": 2,
   "id": "453d4f3c",
   "metadata": {},
   "outputs": [
    {
     "data": {
      "text/plain": [
       "array([50, 60, 70, 80, 90])"
      ]
     },
     "execution_count": 2,
     "metadata": {},
     "output_type": "execute_result"
    }
   ],
   "source": [
    "#索引\n",
    "arr[1]\n",
    "\n",
    "#slice\n",
    "arr[:5] #前五個,不含5\n",
    "arr[-5:] #後5個"
   ]
  },
  {
   "cell_type": "code",
   "execution_count": 3,
   "id": "42c93bd6",
   "metadata": {},
   "outputs": [
    {
     "data": {
      "text/plain": [
       "array([[ 71,  68,  56,  78,  89],\n",
       "       [ 67,  77,  52,  54,  90],\n",
       "       [ 57,  65, 100,  90,  57],\n",
       "       [ 87,  50,  96,  63,  75],\n",
       "       [ 73,  55,  99,  64,  92],\n",
       "       [ 93,  76,  82,  80,  54],\n",
       "       [ 51,  79,  91,  69,  90],\n",
       "       [ 97,  89,  91,  57,  84],\n",
       "       [ 62,  93,  58,  96,  50],\n",
       "       [ 89,  80,  67,  94,  50],\n",
       "       [ 51,  92,  85,  80,  77],\n",
       "       [ 92,  54,  92,  72,  95],\n",
       "       [ 84,  58,  52,  61,  64],\n",
       "       [ 70,  72, 100,  57,  98],\n",
       "       [ 61,  54,  95,  90,  64],\n",
       "       [ 84,  93,  84,  72,  73],\n",
       "       [ 56,  52,  90,  96,  89],\n",
       "       [ 50,  74,  91,  50,  64],\n",
       "       [ 89,  95,  59,  75,  60],\n",
       "       [ 60,  52,  95,  65,  93],\n",
       "       [ 79,  99,  96,  64,  50],\n",
       "       [ 96,  54,  86,  59,  89],\n",
       "       [ 61,  68,  72,  90,  87],\n",
       "       [ 78,  95,  51,  82, 100],\n",
       "       [ 86,  69,  66,  63,  81],\n",
       "       [ 51,  60,  62,  69,  78],\n",
       "       [ 85,  81,  68,  53,  74],\n",
       "       [ 59,  69,  88,  64,  61],\n",
       "       [ 72,  75,  55,  78,  66],\n",
       "       [ 87,  83,  84,  95, 100],\n",
       "       [ 89,  62,  77,  95, 100],\n",
       "       [ 50,  98,  64,  89,  51],\n",
       "       [ 93,  70,  88,  80,  79],\n",
       "       [ 84,  86,  55,  58,  86],\n",
       "       [ 62,  91,  76,  58,  53],\n",
       "       [ 70,  96,  93,  67,  55],\n",
       "       [ 62,  89,  71,  64,  96],\n",
       "       [ 57,  88,  91,  84,  94],\n",
       "       [ 62,  85,  52,  78,  69],\n",
       "       [ 50,  71,  73,  77,  92],\n",
       "       [ 55,  63,  99,  98,  75],\n",
       "       [ 70,  89,  63,  66,  57],\n",
       "       [ 69,  76,  53,  71,  64],\n",
       "       [ 86,  97,  56,  58,  92],\n",
       "       [ 86,  57,  53,  60,  77],\n",
       "       [ 95,  82,  87, 100,  95],\n",
       "       [ 88,  58,  96,  72,  82],\n",
       "       [ 50,  73,  72,  50,  57],\n",
       "       [ 97,  70,  69,  56,  50],\n",
       "       [ 96,  84,  50,  86,  73]], dtype=int32)"
      ]
     },
     "execution_count": 3,
     "metadata": {},
     "output_type": "execute_result"
    }
   ],
   "source": [
    "scores = np.random.randint(50,101,size=(50,5))\n",
    "scores"
   ]
  },
  {
   "cell_type": "code",
   "execution_count": 4,
   "id": "f64f3a33",
   "metadata": {},
   "outputs": [
    {
     "data": {
      "text/plain": [
       "array([[71, 68, 56, 78, 89]], dtype=int32)"
      ]
     },
     "execution_count": 4,
     "metadata": {},
     "output_type": "execute_result"
    }
   ],
   "source": [
    "#第一位學生分數\n",
    "scores[0] #使用索引(index) (5,) --> size\n",
    "scores[0,:] #使用slice (5,)\n",
    "scores[0:1,:] #(1,5)"
   ]
  },
  {
   "cell_type": "code",
   "execution_count": 5,
   "id": "6abaa19d",
   "metadata": {},
   "outputs": [
    {
     "data": {
      "text/plain": [
       "array([[ 71,  68,  56],\n",
       "       [ 67,  77,  52],\n",
       "       [ 57,  65, 100],\n",
       "       [ 87,  50,  96],\n",
       "       [ 73,  55,  99]], dtype=int32)"
      ]
     },
     "execution_count": 5,
     "metadata": {},
     "output_type": "execute_result"
    }
   ],
   "source": [
    "#前5位\n",
    "scores[:5]\n",
    "\n",
    "#前5位,前三科分數\n",
    "scores[:5,:3]"
   ]
  },
  {
   "cell_type": "code",
   "execution_count": 6,
   "id": "e539acfc",
   "metadata": {},
   "outputs": [
    {
     "data": {
      "text/plain": [
       "array([71, 67, 57, 87, 73, 93, 51, 97, 62, 89, 51, 92, 84, 70, 61, 84, 56,\n",
       "       50, 89, 60, 79, 96, 61, 78, 86, 51, 85, 59, 72, 87, 89, 50, 93, 84,\n",
       "       62, 70, 62, 57, 62, 50, 55, 70, 69, 86, 86, 95, 88, 50, 97, 96],\n",
       "      dtype=int32)"
      ]
     },
     "execution_count": 6,
     "metadata": {},
     "output_type": "execute_result"
    }
   ],
   "source": [
    "#第1科\n",
    "scores[:,0]"
   ]
  },
  {
   "cell_type": "code",
   "execution_count": 7,
   "id": "d22bbcb2",
   "metadata": {},
   "outputs": [
    {
     "data": {
      "text/plain": [
       "array([362, 340, 369, 371, 383, 385, 380, 418, 359, 380, 385, 405, 319,\n",
       "       397, 364, 406, 383, 329, 378, 365, 388, 384, 378, 406, 365, 320,\n",
       "       361, 341, 346, 449, 423, 352, 410, 369, 340, 381, 382, 414, 346,\n",
       "       363, 390, 345, 333, 389, 333, 459, 396, 302, 342, 389], dtype=int32)"
      ]
     },
     "execution_count": 7,
     "metadata": {},
     "output_type": "execute_result"
    }
   ],
   "source": [
    "#ndarray可以陣列運算\n",
    "total = scores[:,0] + scores[:,1] + scores[:,2] + scores[:,3] + scores[:,4]\n",
    "total"
   ]
  },
  {
   "cell_type": "code",
   "execution_count": 8,
   "id": "87c21e61",
   "metadata": {},
   "outputs": [
    {
     "data": {
      "text/plain": [
       "array([72.4, 68. , 73.8, 74.2, 76.6, 77. , 76. , 83.6, 71.8, 76. , 77. ,\n",
       "       81. , 63.8, 79.4, 72.8, 81.2, 76.6, 65.8, 75.6, 73. , 77.6, 76.8,\n",
       "       75.6, 81.2, 73. , 64. , 72.2, 68.2, 69.2, 89.8, 84.6, 70.4, 82. ,\n",
       "       73.8, 68. , 76.2, 76.4, 82.8, 69.2, 72.6, 78. , 69. , 66.6, 77.8,\n",
       "       66.6, 91.8, 79.2, 60.4, 68.4, 77.8])"
      ]
     },
     "execution_count": 8,
     "metadata": {},
     "output_type": "execute_result"
    }
   ],
   "source": [
    "total/5"
   ]
  },
  {
   "cell_type": "code",
   "execution_count": 9,
   "id": "1da873c2",
   "metadata": {},
   "outputs": [
    {
     "data": {
      "text/plain": [
       "array([72.4, 68. , 73.8, 74.2, 76.6, 77. , 76. , 83.6, 71.8, 76. , 77. ,\n",
       "       81. , 63.8, 79.4, 72.8, 81.2, 76.6, 65.8, 75.6, 73. , 77.6, 76.8,\n",
       "       75.6, 81.2, 73. , 64. , 72.2, 68.2, 69.2, 89.8, 84.6, 70.4, 82. ,\n",
       "       73.8, 68. , 76.2, 76.4, 82.8, 69.2, 72.6, 78. , 69. , 66.6, 77.8,\n",
       "       66.6, 91.8, 79.2, 60.4, 68.4, 77.8])"
      ]
     },
     "execution_count": 9,
     "metadata": {},
     "output_type": "execute_result"
    }
   ],
   "source": [
    "#np內的function\n",
    "np.sum(scores,axis=1) #加總(橫軸)\n",
    "np.mean(scores,axis=1) #平均\n",
    "\n",
    "#實體方法\n",
    "scores.sum(axis=1)\n",
    "scores.mean(axis=1)"
   ]
  }
 ],
 "metadata": {
  "kernelspec": {
   "display_name": "data",
   "language": "python",
   "name": "python3"
  },
  "language_info": {
   "codemirror_mode": {
    "name": "ipython",
    "version": 3
   },
   "file_extension": ".py",
   "mimetype": "text/x-python",
   "name": "python",
   "nbconvert_exporter": "python",
   "pygments_lexer": "ipython3",
   "version": "3.12.11"
  }
 },
 "nbformat": 4,
 "nbformat_minor": 5
}
