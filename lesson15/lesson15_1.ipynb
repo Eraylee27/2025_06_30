{
 "cells": [
  {
   "cell_type": "code",
   "execution_count": 2,
   "id": "4582feb5",
   "metadata": {},
   "outputs": [
    {
     "data": {
      "text/plain": [
       "array([10, 30, 50, 70, 90])"
      ]
     },
     "execution_count": 2,
     "metadata": {},
     "output_type": "execute_result"
    }
   ],
   "source": [
    "import numpy as np\n",
    "#陣列運算\n",
    "a = np.array([1,3,5,7,9])\n",
    "a *= 10\n",
    "a"
   ]
  },
  {
   "cell_type": "code",
   "execution_count": 3,
   "id": "7f34a3c1",
   "metadata": {},
   "outputs": [
    {
     "data": {
      "text/plain": [
       "array([ 3,  7, 11, 15, 19])"
      ]
     },
     "execution_count": 3,
     "metadata": {},
     "output_type": "execute_result"
    }
   ],
   "source": [
    "a = np.array([1,3,5,7,9])\n",
    "b = np.array([2,4,6,8,10])\n",
    "\n",
    "#陣列運算\n",
    "a + b"
   ]
  },
  {
   "cell_type": "code",
   "execution_count": null,
   "id": "9d1f12dd",
   "metadata": {},
   "outputs": [
    {
     "data": {
      "text/plain": [
       "dtype('int64')"
      ]
     },
     "execution_count": 16,
     "metadata": {},
     "output_type": "execute_result"
    }
   ],
   "source": [
    "#2維ndarray\n",
    "arr = np.array([[1, 3, 5],[2, 4, 6]])\n",
    "arr.ndim #維度\n",
    "arr.shape #形狀(列,欄)\n",
    "arr.size #元素數量\n",
    "arr.dtype #型別"
   ]
  },
  {
   "cell_type": "code",
   "execution_count": 33,
   "id": "cd595ac0",
   "metadata": {},
   "outputs": [
    {
     "data": {
      "text/plain": [
       "array([[0.88145079, 0.6708042 , 0.71639566, 0.28115642, 0.20040657,\n",
       "        0.32246359, 0.25544412, 0.90960801, 0.5913077 , 0.14924393],\n",
       "       [0.1555992 , 0.35617096, 0.08265123, 0.13436957, 0.37774744,\n",
       "        0.3464778 , 0.18262859, 0.25354154, 0.25775102, 0.1184442 ],\n",
       "       [0.3354585 , 0.41845282, 0.93230908, 0.07963692, 0.05251716,\n",
       "        0.9383271 , 0.83040822, 0.2573278 , 0.08357622, 0.93757674],\n",
       "       [0.26742136, 0.45978576, 0.74997131, 0.9999423 , 0.95875528,\n",
       "        0.9822614 , 0.26596853, 0.95285763, 0.81303784, 0.89010567],\n",
       "       [0.01259796, 0.62715242, 0.77760557, 0.70456573, 0.96527276,\n",
       "        0.69058739, 0.14839907, 0.14415105, 0.696731  , 0.48711114]])"
      ]
     },
     "execution_count": 33,
     "metadata": {},
     "output_type": "execute_result"
    }
   ],
   "source": [
    "np.random.rand()\n",
    "np.random.rand(5,10)"
   ]
  },
  {
   "cell_type": "code",
   "execution_count": 40,
   "id": "a03de30d",
   "metadata": {},
   "outputs": [
    {
     "data": {
      "text/plain": [
       "array([[ 30,  46,  55,  46,  54],\n",
       "       [ 17,  36,  18,  45,  22],\n",
       "       [ 20,  75,  39,  79,  36],\n",
       "       [ 49,  96,  45,  63,   7],\n",
       "       [ 58,  86,  12,  14,  46],\n",
       "       [ 54, 100,  27,  87,  88],\n",
       "       [ 67,   1,  68,  76,   7],\n",
       "       [ 77,  68,  38,  89,  94],\n",
       "       [ 69,  86,   6,  54,  52],\n",
       "       [ 73,  13,  54,  24,  43]], dtype=int32)"
      ]
     },
     "execution_count": 40,
     "metadata": {},
     "output_type": "execute_result"
    }
   ],
   "source": [
    "scores = np.random.randint(0,101,size=(10,5))\n",
    "scores"
   ]
  }
 ],
 "metadata": {
  "kernelspec": {
   "display_name": "data",
   "language": "python",
   "name": "python3"
  },
  "language_info": {
   "codemirror_mode": {
    "name": "ipython",
    "version": 3
   },
   "file_extension": ".py",
   "mimetype": "text/x-python",
   "name": "python",
   "nbconvert_exporter": "python",
   "pygments_lexer": "ipython3",
   "version": "3.12.11"
  }
 },
 "nbformat": 4,
 "nbformat_minor": 5
}
