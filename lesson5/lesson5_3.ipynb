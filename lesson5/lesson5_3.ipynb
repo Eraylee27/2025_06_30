{
 "cells": [
  {
   "cell_type": "code",
   "execution_count": 30,
   "id": "2deca5e7",
   "metadata": {},
   "outputs": [
    {
     "name": "stdout",
     "output_type": "stream",
     "text": [
      "大於等於60\n"
     ]
    }
   ],
   "source": [
    "scores = 78\n",
    "if scores >= 60:\n",
    "    print(\"大於等於60\")\n",
    "else:\n",
    "    print(\"小於60\")"
   ]
  },
  {
   "cell_type": "code",
   "execution_count": 29,
   "id": "e21ebe10",
   "metadata": {},
   "outputs": [
    {
     "name": "stdout",
     "output_type": "stream",
     "text": [
      "60 <= scores <= 80\n"
     ]
    }
   ],
   "source": [
    "#2個條件 → 巢狀判斷\n",
    "\n",
    "scores = 80\n",
    "if scores >= 60:\n",
    "    if scores <= 80:\n",
    "        print(\"60 <= scores <= 80\")\n",
    "    else:\n",
    "        print(\"scores > 80\")\n",
    "else:\n",
    "    print(\"scores < 60\")"
   ]
  },
  {
   "cell_type": "code",
   "execution_count": 28,
   "id": "9990e64d",
   "metadata": {},
   "outputs": [
    {
     "name": "stdout",
     "output_type": "stream",
     "text": [
      "60 <= scores <= 80\n"
     ]
    }
   ],
   "source": [
    "#邏輯運算子\n",
    "scores = 75\n",
    "if scores >= 60 and scores <= 80:  #條件1(>=60)和條件2(<=80)同時發生\n",
    "    print(\"60 <= scores <= 80\")\n",
    "else:\n",
    "    print(\">80或<60\")"
   ]
  },
  {
   "cell_type": "code",
   "execution_count": 27,
   "id": "df46d06b",
   "metadata": {},
   "outputs": [
    {
     "name": "stdout",
     "output_type": "stream",
     "text": [
      "60 <= scores <= 80\n"
     ]
    }
   ],
   "source": [
    "#邏輯運算子\n",
    "scores = 75\n",
    "if scores <= 60 or scores >= 80:  #條件1(>=60)和條件2(<=80)則一發生\n",
    "    print(\"<=60或>=80\")\n",
    "else:\n",
    "    print(\"60 <= scores <= 80\")"
   ]
  }
 ],
 "metadata": {
  "kernelspec": {
   "display_name": "base",
   "language": "python",
   "name": "python3"
  },
  "language_info": {
   "codemirror_mode": {
    "name": "ipython",
    "version": 3
   },
   "file_extension": ".py",
   "mimetype": "text/x-python",
   "name": "python",
   "nbconvert_exporter": "python",
   "pygments_lexer": "ipython3",
   "version": "3.13.2"
  }
 },
 "nbformat": 4,
 "nbformat_minor": 5
}
