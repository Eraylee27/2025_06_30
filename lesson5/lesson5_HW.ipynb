{
 "cells": [
  {
   "cell_type": "code",
   "execution_count": null,
   "id": "a0c8bd01",
   "metadata": {},
   "outputs": [],
   "source": [
    "#請輸入身高(120-250,cm):\n",
    "#請輸入體重(30-200,kg):\n",
    "\n",
    "#您的bmi是:24.5\n",
    "\n",
    "#請檢查輸入的身高體重的格式\n",
    "#身高的範圍是120~250\n",
    "#體重的範圍是30~200"
   ]
  },
  {
   "cell_type": "code",
   "execution_count": null,
   "id": "d59312b3",
   "metadata": {},
   "outputs": [
    {
     "name": "stdout",
     "output_type": "stream",
     "text": [
      "請輸入120-250cm間的數字\n",
      "您的BMi為 30.0\n"
     ]
    }
   ],
   "source": [
    "try:\n",
    "    height = float(input(\"請輸入身高(120-250cm)\"))\n",
    "    if height >= 120 and height <= 250:\n",
    "        print(\"您的身高為:\",height,\"cm\")\n",
    "    weight = float(input(\"請輸入體重(30-200kg)\"))\n",
    "        if weight >= 30 and weight <= 200:\n",
    "            print(\"您的體重為:\",weight,\"kg\")\n",
    "    else:\n",
    "        print(\"請輸入120-250cm間的數字\")\n",
    "        BMI = weight / ((height/100)**2)\n",
    "        print(\"您的BMi為\",round(BMI, ndigits = 1))     "
   ]
  }
 ],
 "metadata": {
  "kernelspec": {
   "display_name": "base",
   "language": "python",
   "name": "python3"
  },
  "language_info": {
   "codemirror_mode": {
    "name": "ipython",
    "version": 3
   },
   "file_extension": ".py",
   "mimetype": "text/x-python",
   "name": "python",
   "nbconvert_exporter": "python",
   "pygments_lexer": "ipython3",
   "version": "3.13.2"
  }
 },
 "nbformat": 4,
 "nbformat_minor": 5
}
