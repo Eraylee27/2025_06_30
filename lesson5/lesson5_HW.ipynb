{
 "cells": [
  {
   "cell_type": "code",
   "execution_count": null,
   "id": "a0c8bd01",
   "metadata": {},
   "outputs": [],
   "source": [
    "#請輸入身高(120-250,cm):\n",
    "#請輸入體重(30-200,kg):\n",
    "\n",
    "#您的bmi是:24.5\n",
    "\n",
    "#請檢查輸入的身高體重的格式\n",
    "#身高的範圍是120~250\n",
    "#體重的範圍是30~200"
   ]
  },
  {
   "cell_type": "code",
   "execution_count": null,
   "id": "d59312b3",
   "metadata": {},
   "outputs": [
    {
     "name": "stdout",
     "output_type": "stream",
     "text": [
      "請輸入120-250cm間的數字\n",
      "您的BMi為 30.0\n"
     ]
    }
   ],
   "source": [
    "try:\n",
    "    height = float(input(\"請輸入身高(120-250cm)\"))\n",
    "    if height >= 120 and height <= 250:\n",
    "        print(\"您的身高為:\",height,\"cm\")\n",
    "    weight = float(input(\"請輸入體重(30-200kg)\"))\n",
    "        if weight >= 30 and weight <= 200:\n",
    "            print(\"您的體重為:\",weight,\"kg\")\n",
    "    else:\n",
    "        print(\"請輸入120-250cm間的數字\")\n",
    "        BMI = weight / ((height/100)**2)\n",
    "        print(\"您的BMi為\",round(BMI, ndigits = 1))     "
   ]
  },
  {
   "cell_type": "code",
   "execution_count": null,
   "id": "162cff4c",
   "metadata": {},
   "outputs": [
    {
     "name": "stdout",
     "output_type": "stream",
     "text": [
      "您的身高為: 150.0 cm\n",
      "體重數字不符合規定\n"
     ]
    }
   ],
   "source": [
    "try:\n",
    "    height = float(input(\"請輸入身高(120-250cm)\"))\n",
    "    weight = float(input(\"請輸入體重(30-200kg)\"))\n",
    "    if height >= 120 and height <= 250:\n",
    "        print(\"您的身高為:\",height,\"cm\")\n",
    "    \n",
    "        if weight >= 30 and weight <= 200:\n",
    "            print(\"您的體重為:\",weight,\"kg\")\n",
    "        else:\n",
    "              raise Exception(\"數字不符合規定\")\n",
    "    else:\n",
    "        raise Exception(\"數字不符規定\")\n",
    "except ValueError as e:\n",
    "        print(\"格式錯誤\",e)\n",
    "except IndexError as e:\n",
    "        print(\"索引錯誤\",e)\n",
    "except Exception as e:\n",
    "        print(e)\n",
    "else:\n",
    "        BMI = weight / ((height/100)**2)\n",
    "        print(\"您的BMi為\",round(BMI, ndigits = 1))     "
   ]
  },
  {
   "cell_type": "code",
   "execution_count": null,
   "id": "9df9d154",
   "metadata": {},
   "outputs": [
    {
     "name": "stdout",
     "output_type": "stream",
     "text": [
      "您的身高為: 120.0 cm\n",
      "數字錯誤: 體重不符規定，請重新輸入\n"
     ]
    }
   ],
   "source": [
    "try:\n",
    "    H = float(input(\"請輸入身高(120-250cm)\"))\n",
    "    if H >= 120 and H <= 250:\n",
    "        print(\"您的身高為:\",H,\"cm\")\n",
    "    else:\n",
    "        raise ValueError(\"身高不符規定，請重新輸入\")\n",
    "\n",
    "    W = float(input(\"請輸入體重(30-200kg)\"))\n",
    "    if W >= 30 and W <= 200:\n",
    "         print(\"您的體重為:\",W,\"kg\")\n",
    "    else:\n",
    "        raise ValueError(\"體重不符規定，請重新輸入\")\n",
    "\n",
    "    BMI = W / ((H/100)**2)\n",
    "    print(\"您的BMi為\",round(BMI, ndigits = 1))  \n",
    "\n",
    "except ValueError as e:\n",
    "    print(\"數字錯誤:\",e)\n",
    "    \n"
   ]
  },
  {
   "cell_type": "code",
   "execution_count": null,
   "id": "ea769c5c",
   "metadata": {},
   "outputs": [
    {
     "name": "stdout",
     "output_type": "stream",
     "text": [
      "身高範圍輸入錯誤\n",
      "體重範圍輸入錯誤\n"
     ]
    }
   ],
   "source": [
    "try:\n",
    "    H = float(input('請輸入身高120-250cm):'))\n",
    "    if H <= 120 or H >= 250:\n",
    "        print('身高範圍輸入錯誤')\n",
    "        \n",
    "        W = float(input('請輸入體重30-200kg):'))\n",
    "        if W <= 30 or W >= 200:\n",
    "         print('體重範圍輸入錯誤')\n",
    "    BMI = W / ((H  / 100) **2)\n",
    "    if H >= 120 and H <= 250:\n",
    "        if W >= 30 and W <= 200:\n",
    "            print('你的BMI為:',round(BMI,1),'\\nBMI正常範圍為18.5~24')\n",
    "except:\n",
    "    print('輸入格式錯誤')"
   ]
  }
 ],
 "metadata": {
  "kernelspec": {
   "display_name": "base",
   "language": "python",
   "name": "python3"
  },
  "language_info": {
   "codemirror_mode": {
    "name": "ipython",
    "version": 3
   },
   "file_extension": ".py",
   "mimetype": "text/x-python",
   "name": "python",
   "nbconvert_exporter": "python",
   "pygments_lexer": "ipython3",
   "version": "3.13.2"
  }
 },
 "nbformat": 4,
 "nbformat_minor": 5
}
