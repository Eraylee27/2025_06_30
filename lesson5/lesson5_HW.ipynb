{
 "cells": [
  {
   "cell_type": "code",
   "execution_count": null,
   "id": "0eb28faf",
   "metadata": {},
   "outputs": [],
   "source": [
    "請輸入身高(120-250,cm):\n",
    "請輸入體重(30-200,kg):\n",
    "輸出:\n",
    "您的bmi是:24.5\n",
    "\n",
    "注意事項:\n",
    "請檢查輸入的身高體重的格式\n",
    "身高的範圍是120~250\n",
    "體重的範圍是30~200"
   ]
  },
  {
   "cell_type": "code",
   "execution_count": 36,
   "id": "aed9106d",
   "metadata": {},
   "outputs": [
    {
     "name": "stdout",
     "output_type": "stream",
     "text": [
      "  您的身高為: 150.0 cm\n",
      "  您的體重為: 45.0 kg\n",
      "👉您的BMI為: 20.0 (kg/m²)\n",
      "   ～應用程式結束～\n"
     ]
    }
   ],
   "source": [
    "#我-1\n",
    "try:\n",
    "    H = float(input(\"請輸入身高(120-250(cm))\"))\n",
    "    if H >= 120 and H <= 250:\n",
    "        print(\"  您的身高為:\",H,\"cm\")\n",
    "    else:\n",
    "        raise Exception(\"身高數字需在120~250(cm)內\")\n",
    "    W = float(input(\"請輸入體重(30~200(kg))\"))\n",
    "    if W >= 30 and W <= 200:\n",
    "        print(\"  您的體重為:\",W,\"kg\")\n",
    "    else:\n",
    "        raise Exception(\"體重數字需在30~200(kg)內\")\n",
    "except ValueError as e:\n",
    "    print(\"格式錯誤\",e)\n",
    "except Exception as e:\n",
    "    print(e)\n",
    "else:\n",
    "    BMI = W / ((H / 100)**2)\n",
    "    print(\"👉您的BMI為:\",round(BMI,ndigits = 1),\"(kg/m²)\") \n",
    "finally:\n",
    "    print(\"   ～應用程式結束～\")"
   ]
  },
  {
   "cell_type": "code",
   "execution_count": null,
   "id": "aa49973a",
   "metadata": {},
   "outputs": [
    {
     "name": "stdout",
     "output_type": "stream",
     "text": [
      "您的身高為: 160.0 cm\n",
      "格式錯誤 體重不符規定，請重新輸入\n"
     ]
    }
   ],
   "source": [
    "#媽媽\n",
    "try:\n",
    "    H = float(input(\"請輸入身高(120-250cm)\"))\n",
    "    if H >= 120 and H <= 250:\n",
    "        print(\"您的身高為:\",H,\"cm\")\n",
    "    else:\n",
    "        raise ValueError(\"身高不符規定，請重新輸入\")\n",
    "\n",
    "    W = float(input(\"請輸入體重(30-200kg)\"))\n",
    "    if W >= 30 and W <= 200:\n",
    "        print(\"您的體重為:\",W,\"kg\")\n",
    "    else:\n",
    "        raise ValueError(\"體重不符規定，請重新輸入\")\n",
    "\n",
    "    BMI = W / ((H/100)**2)\n",
    "    print(\"您的BMi為\",round(BMI, ndigits = 1))  \n",
    "\n",
    "except ValueError as e:\n",
    "    print(\"格式錯誤\",e)\n"
   ]
  },
  {
   "cell_type": "code",
   "execution_count": null,
   "id": "b2b04dd9",
   "metadata": {},
   "outputs": [
    {
     "name": "stdout",
     "output_type": "stream",
     "text": [
      "身高數字需在120~250(cm)內\n",
      "   ～應用程式結束～\n"
     ]
    }
   ],
   "source": [
    "#我-2\n",
    "try:\n",
    "    H = float(input(\"請輸入身高(120-250(cm))\"))\n",
    "    if H < 120 or H > 250:\n",
    "        raise Exception(\"身高數字需在120~250(cm)內\")\n",
    "        W = float(input(\"請輸入體重(30~200(kg))\"))\n",
    "        if W < 30 or W > 200:\n",
    "            raise Exception(\"體重數字需在30~200(cm)內\")\n",
    "        else:\n",
    "            print(\"  您的體重為:\",W,\"kg\")\n",
    "    else:\n",
    "        print(\"  您的身高為:\",H,\"cm\")\n",
    "except Exception as e:\n",
    "    print(e)\n",
    "else:\n",
    "    BMI = W / ((H / 100)**2)\n",
    "    print(\"👉您的BMI為:\",round(BMI,ndigits = 1),\"(kg/m²)\") \n",
    "finally:\n",
    "    print(\"   ～應用程式結束～\")"
   ]
  },
  {
   "cell_type": "code",
   "execution_count": 40,
   "id": "1e55e697",
   "metadata": {},
   "outputs": [
    {
     "name": "stdout",
     "output_type": "stream",
     "text": [
      "  您的身高為: 150.0 cm\n",
      "  您的體重為: 45.0 kg\n",
      "👉您的BMI為: 20.0 (kg/m²)\n",
      "   ～應用程式結束～\n"
     ]
    }
   ],
   "source": [
    "#我-3\n",
    "try:\n",
    "    H = float(input(\"請輸入身高(120-250(cm))\"))\n",
    "    if H < 120 or H > 250:\n",
    "       raise Exception(\"身高數字需在120~250(cm)內\")\n",
    "    else:\n",
    "         print(\"  您的身高為:\",H,\"cm\")\n",
    "    W = float(input(\"請輸入體重(30~200(kg))\"))\n",
    "    if W < 30 or W > 200:\n",
    "         raise Exception(\"體重數字需在30~200(kg)內\")\n",
    "    else:\n",
    "        print(\"  您的體重為:\",W,\"kg\")\n",
    "except ValueError as e:\n",
    "    print(\"格式錯誤\",e)\n",
    "except Exception as e:\n",
    "    print(e)\n",
    "else:\n",
    "    BMI = W / ((H / 100)**2)\n",
    "    print(\"👉您的BMI為:\",round(BMI,ndigits = 1),\"(kg/m²)\") \n",
    "finally:\n",
    "    print(\"   ～應用程式結束～\")"
   ]
  }
 ],
 "metadata": {
  "kernelspec": {
   "display_name": "base",
   "language": "python",
   "name": "python3"
  },
  "language_info": {
   "codemirror_mode": {
    "name": "ipython",
    "version": 3
   },
   "file_extension": ".py",
   "mimetype": "text/x-python",
   "name": "python",
   "nbconvert_exporter": "python",
   "pygments_lexer": "ipython3",
   "version": "3.13.2"
  }
 },
 "nbformat": 4,
 "nbformat_minor": 5
}
