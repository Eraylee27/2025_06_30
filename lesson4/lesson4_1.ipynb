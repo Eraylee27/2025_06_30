{
 "cells": [
  {
   "cell_type": "code",
   "execution_count": 24,
   "id": "64d5c634",
   "metadata": {},
   "outputs": [
    {
     "name": "stdout",
     "output_type": "stream",
     "text": [
      "3數的總和是: 36.0\n"
     ]
    }
   ],
   "source": [
    "#複合指定運算子\n",
    "total = 0\n",
    "value = float(input(\"請輸入第1個值:\"))\n",
    "total += value\n",
    "\n",
    "value = float(input(\"請輸入第2個值:\"))\n",
    "total += value\n",
    "\n",
    "value3 = float(input(\"請輸入第3個值:\"))\n",
    "total += value\n",
    "\n",
    "print(\"3數的總和是:\", total) "
   ]
  },
  {
   "cell_type": "code",
   "execution_count": null,
   "id": "398d5f6d",
   "metadata": {},
   "outputs": [
    {
     "name": "stdout",
     "output_type": "stream",
     "text": [
      "3 5.0 我 True 78.3\n"
     ]
    }
   ],
   "source": [
    "print(3, \"5.0\" ,\"我\" ,True, 78.3) #print()內沒有限定內容數量,不同的要用逗號(,)隔開"
   ]
  },
  {
   "cell_type": "code",
   "execution_count": 13,
   "id": "69d7f4f9",
   "metadata": {},
   "outputs": [
    {
     "name": "stdout",
     "output_type": "stream",
     "text": [
      "n= 50\n"
     ]
    }
   ],
   "source": [
    "n = 25\n",
    "n = n + 25\n",
    "print(\"n=\", n)"
   ]
  },
  {
   "cell_type": "code",
   "execution_count": 18,
   "id": "4e609bb2",
   "metadata": {},
   "outputs": [
    {
     "name": "stdout",
     "output_type": "stream",
     "text": [
      "n= 99.0\n"
     ]
    }
   ],
   "source": [
    "#複合指定運算子\n",
    "# +=\n",
    "# -=\n",
    "# *=\n",
    "\n",
    "n = 25\n",
    "n += 25\n",
    "n *= 2\n",
    "n -= 1\n",
    "n /= 1\n",
    "print(\"n=\", n)"
   ]
  },
  {
   "cell_type": "code",
   "execution_count": 35,
   "id": "8fe62cb5",
   "metadata": {},
   "outputs": [
    {
     "name": "stdout",
     "output_type": "stream",
     "text": [
      "a= 20.0\n",
      "b= 15.0\n",
      "斜邊為: 25.0\n"
     ]
    }
   ],
   "source": [
    "#直角三角形\n",
    "import math #導入工具箱(打import math為工具箱名稱)\n",
    "a = float(input(\"請輸入a=\"))\n",
    "b = float(input(\"請輸入b=\"))\n",
    "c = math.sqrt(a ** 2 + b ** 2) #使用工具箱內容(sqrt)\n",
    "\n",
    "print(\"a=\", a)\n",
    "print(\"b=\", b)\n",
    "print(\"斜邊為:\", c)"
   ]
  },
  {
   "cell_type": "code",
   "execution_count": 46,
   "id": "32b90036",
   "metadata": {},
   "outputs": [
    {
     "name": "stdout",
     "output_type": "stream",
     "text": [
      "斜邊: 50.0\n",
      "對邊: 30.0\n",
      "直角三角形角度: 0.6435011087932844\n"
     ]
    }
   ],
   "source": [
    "import math\n",
    "side = float(input(\"請輸入斜邊:\"))\n",
    "other_side = float(input(\"請輸入對邊:\"))\n",
    "radian = math.asin(other_side / side) #弧(徑)度\n",
    "degrees = math.degrees(radian) #徑度轉角度\n",
    "\n",
    "print(\"斜邊:\", side)\n",
    "print(\"對邊:\", other_side)\n",
    "print(\"直角三角形角度:\", radian)"
   ]
  }
 ],
 "metadata": {
  "kernelspec": {
   "display_name": "base",
   "language": "python",
   "name": "python3"
  },
  "language_info": {
   "codemirror_mode": {
    "name": "ipython",
    "version": 3
   },
   "file_extension": ".py",
   "mimetype": "text/x-python",
   "name": "python",
   "nbconvert_exporter": "python",
   "pygments_lexer": "ipython3",
   "version": "3.13.2"
  }
 },
 "nbformat": 4,
 "nbformat_minor": 5
}
