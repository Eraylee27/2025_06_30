{
 "cells": [
  {
   "cell_type": "code",
   "execution_count": null,
   "id": "3140cc9c",
   "metadata": {},
   "outputs": [
    {
     "name": "stdout",
     "output_type": "stream",
     "text": [
      "True\n",
      "False\n",
      "True\n",
      "False\n",
      "True\n",
      "False\n"
     ]
    }
   ],
   "source": [
    "#單向選擇\n",
    "print(5 > 3) #大於\n",
    "print(5 < 3)  #小於\n",
    "print(5 >= 3) #大於或等於\n",
    "print(5 <= 3) #小於或等於\n",
    "print(5 == 5) #等於\n",
    "print(5 != 5) #不等於"
   ]
  },
  {
   "cell_type": "code",
   "execution_count": null,
   "id": "7fd2205e",
   "metadata": {},
   "outputs": [
    {
     "name": "stdout",
     "output_type": "stream",
     "text": [
      "不及格👎\n"
     ]
    }
   ],
   "source": [
    "#雙項選擇\n",
    "score = 59\n",
    "if score >= 60:\n",
    "    print(\"及格 \")\n",
    "else:\n",
    "    print(\"不及格\")    "
   ]
  },
  {
   "cell_type": "code",
   "execution_count": null,
   "id": "6491f4a3",
   "metadata": {},
   "outputs": [
    {
     "name": "stdout",
     "output_type": "stream",
     "text": [
      "不及格😢\n"
     ]
    }
   ],
   "source": [
    "#雙項選擇\n",
    "score = int(input(\"請輸入學生成績:\"))\n",
    "if score >= 60:\n",
    "    print(\"及格😀\")\n",
    "else:\n",
    "    print(\"不及格😢\") "
   ]
  },
  {
   "cell_type": "code",
   "execution_count": null,
   "id": "c85e03ea",
   "metadata": {},
   "outputs": [
    {
     "name": "stdout",
     "output_type": "stream",
     "text": [
      "學生總積分是: 313.9\n"
     ]
    }
   ],
   "source": [
    "#單項選擇\n",
    "\n",
    "#學生總分為300分\n",
    "#有些學生可以加分5%\n",
    "\n",
    "scores = int(input(\"請輸入學生分數(最高300分)\"))\n",
    "is_add = input(\"學生是否符合加分條件?(y,n)\")\n",
    "\n",
    "if is_add == \"y\":\n",
    "    scores *= 1.05 \n",
    "\n",
    "print(\"學生總積分是:\", round(scores, ndigits = 1))"
   ]
  },
  {
   "cell_type": "code",
   "execution_count": 7,
   "id": "23072f9c",
   "metadata": {},
   "outputs": [
    {
     "name": "stdout",
     "output_type": "stream",
     "text": [
      "36\n"
     ]
    }
   ],
   "source": [
    "原始 = int(input(\"輸入值\"))\n",
    "加分 = input(\"輸入y or n\")\n",
    "\n",
    "if 加分 == \"y\":\n",
    "    原始 *= 3\n",
    "print(原始)"
   ]
  }
 ],
 "metadata": {
  "kernelspec": {
   "display_name": "base",
   "language": "python",
   "name": "python3"
  },
  "language_info": {
   "codemirror_mode": {
    "name": "ipython",
    "version": 3
   },
   "file_extension": ".py",
   "mimetype": "text/x-python",
   "name": "python",
   "nbconvert_exporter": "python",
   "pygments_lexer": "ipython3",
   "version": "3.13.2"
  }
 },
 "nbformat": 4,
 "nbformat_minor": 5
}
